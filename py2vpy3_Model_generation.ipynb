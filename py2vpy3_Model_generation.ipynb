{
  "nbformat": 4,
  "nbformat_minor": 0,
  "metadata": {
    "colab": {
      "provenance": [],
      "gpuType": "V100",
      "include_colab_link": true
    },
    "kernelspec": {
      "name": "python3",
      "display_name": "Python 3"
    },
    "language_info": {
      "name": "python"
    },
    "accelerator": "GPU"
  },
  "cells": [
    {
      "cell_type": "markdown",
      "metadata": {
        "id": "view-in-github",
        "colab_type": "text"
      },
      "source": [
        "<a href=\"https://colab.research.google.com/github/mnassar/py2vpy3xai/blob/main/py2vpy3_Model_generation.ipynb\" target=\"_parent\"><img src=\"https://colab.research.google.com/assets/colab-badge.svg\" alt=\"Open In Colab\"/></a>"
      ]
    },
    {
      "cell_type": "markdown",
      "source": [
        "@author: mnassar\n",
        "\n",
        "Code for a model generation\n",
        "\n",
        "Modified Malconv Neural Network Architecture"
      ],
      "metadata": {
        "id": "6ivDqU7yJAWb"
      }
    },
    {
      "cell_type": "code",
      "execution_count": null,
      "metadata": {
        "colab": {
          "base_uri": "https://localhost:8080/"
        },
        "id": "eYYoeO9i-IXz",
        "outputId": "2645cdd7-cbe3-494c-90d3-92466e781039"
      },
      "outputs": [
        {
          "output_type": "stream",
          "name": "stdout",
          "text": [
            "Model: \"MM1_80k_Win5_NF64\"\n",
            "__________________________________________________________________________________________________\n",
            " Layer (type)                Output Shape                 Param #   Connected to                  \n",
            "==================================================================================================\n",
            " input_2 (InputLayer)        [(None, 100)]                0         []                            \n",
            "                                                                                                  \n",
            " embedding_1 (Embedding)     (None, 100, 8)               2048      ['input_2[0][0]']             \n",
            "                                                                                                  \n",
            " conv1d_3 (Conv1D)           (None, 100, 64)              5184      ['embedding_1[0][0]']         \n",
            "                                                                                                  \n",
            " conv1d_2 (Conv1D)           (None, 100, 64)              5184      ['embedding_1[0][0]']         \n",
            "                                                                                                  \n",
            " sigmoid (Activation)        (None, 100, 64)              0         ['conv1d_3[0][0]']            \n",
            "                                                                                                  \n",
            " multiply_1 (Multiply)       (None, 100, 64)              0         ['conv1d_2[0][0]',            \n",
            "                                                                     'sigmoid[0][0]']             \n",
            "                                                                                                  \n",
            " relu (Activation)           (None, 100, 64)              0         ['multiply_1[0][0]']          \n",
            "                                                                                                  \n",
            " global_max_pooling1d_1 (Gl  (None, 64)                   0         ['relu[0][0]']                \n",
            " obalMaxPooling1D)                                                                                \n",
            "                                                                                                  \n",
            " dense_2 (Dense)             (None, 8)                    520       ['global_max_pooling1d_1[0][0]\n",
            "                                                                    ']                            \n",
            "                                                                                                  \n",
            " dense_3 (Dense)             (None, 1)                    9         ['dense_2[0][0]']             \n",
            "                                                                                                  \n",
            "==================================================================================================\n",
            "Total params: 12945 (50.57 KB)\n",
            "Trainable params: 12945 (50.57 KB)\n",
            "Non-trainable params: 0 (0.00 Byte)\n",
            "__________________________________________________________________________________________________\n"
          ]
        }
      ],
      "source": [
        "import tensorflow as tf\n",
        "\n",
        "from keras.models import Model\n",
        "from keras.layers import Dense, Embedding, Conv1D, multiply, GlobalMaxPool1D, Input, Activation\n",
        "from keras import regularizers\n",
        "\n",
        "MAX_LEN = 100\n",
        "WIN_SIZE = 5\n",
        "NB_FILTERS = 64\n",
        "\n",
        "def Malconv(max_len=MAX_LEN, win_size=WIN_SIZE, vocab_size=256):\n",
        "    inp = Input((max_len,))\n",
        "    emb = Embedding(vocab_size, 8)(inp)\n",
        "    conv1 = Conv1D(kernel_size=(win_size), filters=NB_FILTERS, strides=(1), padding='same')(emb)\n",
        "    conv2 = Conv1D(kernel_size=(win_size), filters=NB_FILTERS, strides=(1), padding='same')(emb)\n",
        "    a = Activation('sigmoid', name='sigmoid')(conv2)\n",
        "    mul = multiply([conv1, a])\n",
        "    a = Activation('relu', name='relu', activity_regularizer=regularizers.L1(0.01))(mul)\n",
        "    p = GlobalMaxPool1D()(a)\n",
        "    d = Dense(8)(p)\n",
        "    out = Dense(1, activation='sigmoid')(d)\n",
        "    return Model(inp, out)\n",
        "\n",
        "\n",
        "m = Malconv(win_size=10)\n",
        "m._name = \"MM1_80k_Win5_NF64\"\n",
        "m.summary()"
      ]
    },
    {
      "cell_type": "markdown",
      "source": [
        "Read and preprocess the data"
      ],
      "metadata": {
        "id": "g7ynwCydJFKL"
      }
    },
    {
      "cell_type": "code",
      "source": [
        "# from keras.preprocessing.sequence import pad_sequences\n",
        "from keras.utils import pad_sequences\n",
        "import numpy as np\n",
        "import pandas as pd\n",
        "\n",
        "df = pd.read_csv(\"dataset10k.csv\")\n",
        "df[\"class\"].unique()"
      ],
      "metadata": {
        "colab": {
          "base_uri": "https://localhost:8080/"
        },
        "id": "Pdn_FiTR__NJ",
        "outputId": "bda2f31a-294d-4555-cab2-a6f89876bf29"
      },
      "execution_count": null,
      "outputs": [
        {
          "output_type": "execute_result",
          "data": {
            "text/plain": [
              "array([3, 2])"
            ]
          },
          "metadata": {},
          "execution_count": 4
        }
      ]
    },
    {
      "cell_type": "code",
      "source": [
        "# clean NAN lines\n",
        "df = df.drop ( df[df[\"lines of code\"].isnull()].index )\n",
        "df[df[\"lines of code\"].isnull()]"
      ],
      "metadata": {
        "id": "T6A5vDDiCpVE",
        "colab": {
          "base_uri": "https://localhost:8080/",
          "height": 104
        },
        "outputId": "d70b673c-1db0-4f31-ff33-7f1928440186"
      },
      "execution_count": null,
      "outputs": [
        {
          "output_type": "execute_result",
          "data": {
            "text/plain": [
              "Empty DataFrame\n",
              "Columns: [lines of code, class, print(, __future__, xrange,  range, u\", print , unicode(, __next__(, raw_input(, explanation]\n",
              "Index: []"
            ],
            "text/html": [
              "\n",
              "  <div id=\"df-244246f2-9e3a-41ca-b838-f3b7fb94c77e\" class=\"colab-df-container\">\n",
              "    <div>\n",
              "<style scoped>\n",
              "    .dataframe tbody tr th:only-of-type {\n",
              "        vertical-align: middle;\n",
              "    }\n",
              "\n",
              "    .dataframe tbody tr th {\n",
              "        vertical-align: top;\n",
              "    }\n",
              "\n",
              "    .dataframe thead th {\n",
              "        text-align: right;\n",
              "    }\n",
              "</style>\n",
              "<table border=\"1\" class=\"dataframe\">\n",
              "  <thead>\n",
              "    <tr style=\"text-align: right;\">\n",
              "      <th></th>\n",
              "      <th>lines of code</th>\n",
              "      <th>class</th>\n",
              "      <th>print(</th>\n",
              "      <th>__future__</th>\n",
              "      <th>xrange</th>\n",
              "      <th>range</th>\n",
              "      <th>u\"</th>\n",
              "      <th>print</th>\n",
              "      <th>unicode(</th>\n",
              "      <th>__next__(</th>\n",
              "      <th>raw_input(</th>\n",
              "      <th>explanation</th>\n",
              "    </tr>\n",
              "  </thead>\n",
              "  <tbody>\n",
              "  </tbody>\n",
              "</table>\n",
              "</div>\n",
              "    <div class=\"colab-df-buttons\">\n",
              "\n",
              "  <div class=\"colab-df-container\">\n",
              "    <button class=\"colab-df-convert\" onclick=\"convertToInteractive('df-244246f2-9e3a-41ca-b838-f3b7fb94c77e')\"\n",
              "            title=\"Convert this dataframe to an interactive table.\"\n",
              "            style=\"display:none;\">\n",
              "\n",
              "  <svg xmlns=\"http://www.w3.org/2000/svg\" height=\"24px\" viewBox=\"0 -960 960 960\">\n",
              "    <path d=\"M120-120v-720h720v720H120Zm60-500h600v-160H180v160Zm220 220h160v-160H400v160Zm0 220h160v-160H400v160ZM180-400h160v-160H180v160Zm440 0h160v-160H620v160ZM180-180h160v-160H180v160Zm440 0h160v-160H620v160Z\"/>\n",
              "  </svg>\n",
              "    </button>\n",
              "\n",
              "  <style>\n",
              "    .colab-df-container {\n",
              "      display:flex;\n",
              "      gap: 12px;\n",
              "    }\n",
              "\n",
              "    .colab-df-convert {\n",
              "      background-color: #E8F0FE;\n",
              "      border: none;\n",
              "      border-radius: 50%;\n",
              "      cursor: pointer;\n",
              "      display: none;\n",
              "      fill: #1967D2;\n",
              "      height: 32px;\n",
              "      padding: 0 0 0 0;\n",
              "      width: 32px;\n",
              "    }\n",
              "\n",
              "    .colab-df-convert:hover {\n",
              "      background-color: #E2EBFA;\n",
              "      box-shadow: 0px 1px 2px rgba(60, 64, 67, 0.3), 0px 1px 3px 1px rgba(60, 64, 67, 0.15);\n",
              "      fill: #174EA6;\n",
              "    }\n",
              "\n",
              "    .colab-df-buttons div {\n",
              "      margin-bottom: 4px;\n",
              "    }\n",
              "\n",
              "    [theme=dark] .colab-df-convert {\n",
              "      background-color: #3B4455;\n",
              "      fill: #D2E3FC;\n",
              "    }\n",
              "\n",
              "    [theme=dark] .colab-df-convert:hover {\n",
              "      background-color: #434B5C;\n",
              "      box-shadow: 0px 1px 3px 1px rgba(0, 0, 0, 0.15);\n",
              "      filter: drop-shadow(0px 1px 2px rgba(0, 0, 0, 0.3));\n",
              "      fill: #FFFFFF;\n",
              "    }\n",
              "  </style>\n",
              "\n",
              "    <script>\n",
              "      const buttonEl =\n",
              "        document.querySelector('#df-244246f2-9e3a-41ca-b838-f3b7fb94c77e button.colab-df-convert');\n",
              "      buttonEl.style.display =\n",
              "        google.colab.kernel.accessAllowed ? 'block' : 'none';\n",
              "\n",
              "      async function convertToInteractive(key) {\n",
              "        const element = document.querySelector('#df-244246f2-9e3a-41ca-b838-f3b7fb94c77e');\n",
              "        const dataTable =\n",
              "          await google.colab.kernel.invokeFunction('convertToInteractive',\n",
              "                                                    [key], {});\n",
              "        if (!dataTable) return;\n",
              "\n",
              "        const docLinkHtml = 'Like what you see? Visit the ' +\n",
              "          '<a target=\"_blank\" href=https://colab.research.google.com/notebooks/data_table.ipynb>data table notebook</a>'\n",
              "          + ' to learn more about interactive tables.';\n",
              "        element.innerHTML = '';\n",
              "        dataTable['output_type'] = 'display_data';\n",
              "        await google.colab.output.renderOutput(dataTable, element);\n",
              "        const docLink = document.createElement('div');\n",
              "        docLink.innerHTML = docLinkHtml;\n",
              "        element.appendChild(docLink);\n",
              "      }\n",
              "    </script>\n",
              "  </div>\n",
              "\n",
              "\n",
              "    </div>\n",
              "  </div>\n"
            ],
            "application/vnd.google.colaboratory.intrinsic+json": {
              "type": "dataframe",
              "repr_error": "Out of range float values are not JSON compliant: nan"
            }
          },
          "metadata": {},
          "execution_count": 5
        }
      ]
    },
    {
      "cell_type": "code",
      "source": [
        "x_train = [ bytearray(line, encoding=\"utf-8\") for line in df[\"lines of code\"] ]\n",
        "y_train = np.array ( df[\"class\"] - 2 )\n",
        "\n",
        "x_train_padded = pad_sequences(x_train, maxlen=MAX_LEN, padding='post', truncating='post')"
      ],
      "metadata": {
        "id": "8tarANrGCo5G"
      },
      "execution_count": null,
      "outputs": []
    },
    {
      "cell_type": "code",
      "source": [
        "x_train_padded.shape"
      ],
      "metadata": {
        "id": "2qVFogu61gJg",
        "colab": {
          "base_uri": "https://localhost:8080/"
        },
        "outputId": "e08fc299-438a-48c3-f5d7-644d2eb338a8"
      },
      "execution_count": null,
      "outputs": [
        {
          "output_type": "execute_result",
          "data": {
            "text/plain": [
              "(9833, 100)"
            ]
          },
          "metadata": {},
          "execution_count": 7
        }
      ]
    },
    {
      "cell_type": "code",
      "source": [
        "def data_generator(x_data, y_data, batch_size, shuffle):\n",
        "    idx = np.arange(len(x_data))\n",
        "    if shuffle:\n",
        "        np.random.shuffle(idx)\n",
        "    nb_batches = len(x_data) // batch_size + 1\n",
        "    batches = [ idx [ range ( batch_size * i, min(len(x_data), batch_size * (i+1)) ) ]\n",
        "               for i in range(nb_batches) ]\n",
        "    while True:\n",
        "        for i in batches:\n",
        "            xx = x_data[i]\n",
        "            yy = y_data[i]\n",
        "            yield (xx, yy)\n"
      ],
      "metadata": {
        "id": "ZSrue_LCHLqC"
      },
      "execution_count": null,
      "outputs": []
    },
    {
      "cell_type": "code",
      "source": [
        "d = data_generator(x_train_padded, y_train, 64, shuffle=True)\n",
        "next(d)[0].shape"
      ],
      "metadata": {
        "id": "Zzhw9C_IIVyV",
        "colab": {
          "base_uri": "https://localhost:8080/"
        },
        "outputId": "4c5b0df2-62c3-4ce1-bae1-074fc484365d"
      },
      "execution_count": null,
      "outputs": [
        {
          "output_type": "execute_result",
          "data": {
            "text/plain": [
              "(64, 100)"
            ]
          },
          "metadata": {},
          "execution_count": 9
        }
      ]
    },
    {
      "cell_type": "markdown",
      "source": [
        "Training"
      ],
      "metadata": {
        "id": "3wiu52MxJKLB"
      }
    },
    {
      "cell_type": "code",
      "source": [
        "import tensorflow as tf\n",
        "from keras.callbacks import ModelCheckpoint, EarlyStopping\n",
        "\n",
        "from tensorflow.keras.losses import BinaryCrossentropy\n",
        "from os.path import join\n",
        "import matplotlib.pyplot as plt\n",
        "\n",
        "BATCH_SIZE = 16\n",
        "NB_EPOCHS = 20\n",
        "\n",
        "\n",
        "# ear = EarlyStopping(monitor='val_acc', patience=5)\n",
        "# mcp = ModelCheckpoint(filepath='malconv.keras')\n",
        "\n",
        "m.compile(loss='binary_crossentropy', optimizer='adam', metrics=['acc'])\n",
        "\n",
        "history = m.fit(\n",
        "    data_generator(x_train_padded, y_train, BATCH_SIZE, shuffle=True),\n",
        "    steps_per_epoch=len(x_train)//BATCH_SIZE + 1,\n",
        "    epochs=NB_EPOCHS,\n",
        "    verbose=1,\n",
        "    # callbacks=[mcp],\n",
        "    )\n",
        "\n",
        "plt.plot(history.history['acc'])\n",
        "# plt.plot(history.history['val_acc'])\n",
        "\n"
      ],
      "metadata": {
        "id": "PkaJPylCI1m4",
        "colab": {
          "base_uri": "https://localhost:8080/",
          "height": 1000
        },
        "outputId": "a0c33bd9-5261-447c-acee-ac123e05bfd7"
      },
      "execution_count": null,
      "outputs": [
        {
          "output_type": "stream",
          "name": "stdout",
          "text": [
            "Epoch 1/20\n",
            "615/615 [==============================] - 13s 14ms/step - loss: 0.3585 - acc: 0.8627\n",
            "Epoch 2/20\n",
            "615/615 [==============================] - 3s 6ms/step - loss: 0.1373 - acc: 0.9597\n",
            "Epoch 3/20\n",
            "615/615 [==============================] - 4s 6ms/step - loss: 0.1084 - acc: 0.9665\n",
            "Epoch 4/20\n",
            "615/615 [==============================] - 4s 6ms/step - loss: 0.0841 - acc: 0.9766\n",
            "Epoch 5/20\n",
            "615/615 [==============================] - 4s 6ms/step - loss: 0.0712 - acc: 0.9795\n",
            "Epoch 6/20\n",
            "615/615 [==============================] - 4s 7ms/step - loss: 0.0620 - acc: 0.9823\n",
            "Epoch 7/20\n",
            "615/615 [==============================] - 4s 6ms/step - loss: 0.0564 - acc: 0.9839\n",
            "Epoch 8/20\n",
            "615/615 [==============================] - 3s 6ms/step - loss: 0.0505 - acc: 0.9865\n",
            "Epoch 9/20\n",
            "615/615 [==============================] - 4s 6ms/step - loss: 0.0450 - acc: 0.9889\n",
            "Epoch 10/20\n",
            "615/615 [==============================] - 4s 7ms/step - loss: 0.0421 - acc: 0.9901\n",
            "Epoch 11/20\n",
            "615/615 [==============================] - 4s 6ms/step - loss: 0.0388 - acc: 0.9899\n",
            "Epoch 12/20\n",
            "615/615 [==============================] - 3s 6ms/step - loss: 0.0367 - acc: 0.9912\n",
            "Epoch 13/20\n",
            "615/615 [==============================] - 5s 8ms/step - loss: 0.0325 - acc: 0.9936\n",
            "Epoch 14/20\n",
            "615/615 [==============================] - 4s 6ms/step - loss: 0.0324 - acc: 0.9929\n",
            "Epoch 15/20\n",
            "615/615 [==============================] - 3s 6ms/step - loss: 0.0299 - acc: 0.9939\n",
            "Epoch 16/20\n",
            "615/615 [==============================] - 4s 7ms/step - loss: 0.0290 - acc: 0.9935\n",
            "Epoch 17/20\n",
            "615/615 [==============================] - 4s 6ms/step - loss: 0.0282 - acc: 0.9941\n",
            "Epoch 18/20\n",
            "615/615 [==============================] - 3s 6ms/step - loss: 0.0275 - acc: 0.9938\n",
            "Epoch 19/20\n",
            "615/615 [==============================] - 3s 6ms/step - loss: 0.0252 - acc: 0.9958\n",
            "Epoch 20/20\n",
            "615/615 [==============================] - 4s 7ms/step - loss: 0.0245 - acc: 0.9945\n"
          ]
        },
        {
          "output_type": "execute_result",
          "data": {
            "text/plain": [
              "[<matplotlib.lines.Line2D at 0x7801714e3580>]"
            ]
          },
          "metadata": {},
          "execution_count": 10
        },
        {
          "output_type": "display_data",
          "data": {
            "text/plain": [
              "<Figure size 640x480 with 1 Axes>"
            ],
            "image/png": "[encoded data removed]"
          },
          "metadata": {}
        }
      ]
    },
    {
      "cell_type": "code",
      "source": [
        "m.save(m._name + \".keras\")"
      ],
      "metadata": {
        "id": "8KQwG-33AjTi"
      },
      "execution_count": null,
      "outputs": []
    },
    {
      "cell_type": "code",
      "source": [
        "from keras import models\n",
        "m = models.load_model(m._name + '.keras')\n",
        "m.summary()\n"
      ],
      "metadata": {
        "id": "Jgmlbj6YAzOs"
      },
      "execution_count": null,
      "outputs": []
    }
  ]
}