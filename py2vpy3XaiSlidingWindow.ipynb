{
  "nbformat": 4,
  "nbformat_minor": 0,
  "metadata": {
    "colab": {
      "provenance": [],
      "authorship_tag": "ABX9TyNZjBigITMmfqk8Y/f6Viot",
      "include_colab_link": true
    },
    "kernelspec": {
      "name": "python3",
      "display_name": "Python 3"
    },
    "language_info": {
      "name": "python"
    }
  },
  "cells": [
    {
      "cell_type": "markdown",
      "metadata": {
        "id": "view-in-github",
        "colab_type": "text"
      },
      "source": [
        "<a href=\"https://colab.research.google.com/github/mnassar/py2vpy3xai/blob/main/py2vpy3XaiSlidingWindow.ipynb\" target=\"_parent\"><img src=\"https://colab.research.google.com/assets/colab-badge.svg\" alt=\"Open In Colab\"/></a>"
      ]
    },
    {
      "cell_type": "markdown",
      "source": [
        "@author: mnassar\n",
        "\n",
        "Sliding window explainer.\n",
        "\n",
        "This code was used to generate the results in Table 4:\n",
        "\n",
        "Example of a mini-dataset for our sliding window\n",
        "explainer"
      ],
      "metadata": {
        "id": "0ulYSzC5ozeO"
      }
    },
    {
      "cell_type": "code",
      "execution_count": 2,
      "metadata": {
        "colab": {
          "base_uri": "https://localhost:8080/"
        },
        "id": "Dvt5KjH8ZAZr",
        "outputId": "596f9437-3811-4e20-f58c-c16032120ce1"
      },
      "outputs": [
        {
          "output_type": "stream",
          "name": "stderr",
          "text": [
            "WARNING:absl:Skipping variable loading for optimizer 'Adam', because it has 19 variables whereas the saved optimizer has 0 variables. \n"
          ]
        },
        {
          "output_type": "stream",
          "name": "stdout",
          "text": [
            "Model: \"MM_dataset10k_Win5_NF32\"\n",
            "__________________________________________________________________________________________________\n",
            " Layer (type)                Output Shape                 Param #   Connected to                  \n",
            "==================================================================================================\n",
            " input_1 (InputLayer)        [(None, 100)]                0         []                            \n",
            "                                                                                                  \n",
            " embedding (Embedding)       (None, 100, 8)               2048      ['input_1[0][0]']             \n",
            "                                                                                                  \n",
            " conv1d_1 (Conv1D)           (None, 100, 32)              1312      ['embedding[0][0]']           \n",
            "                                                                                                  \n",
            " conv1d (Conv1D)             (None, 100, 32)              1312      ['embedding[0][0]']           \n",
            "                                                                                                  \n",
            " sigmoid (Activation)        (None, 100, 32)              0         ['conv1d_1[0][0]']            \n",
            "                                                                                                  \n",
            " multiply (Multiply)         (None, 100, 32)              0         ['conv1d[0][0]',              \n",
            "                                                                     'sigmoid[0][0]']             \n",
            "                                                                                                  \n",
            " relu (Activation)           (None, 100, 32)              0         ['multiply[0][0]']            \n",
            "                                                                                                  \n",
            " global_max_pooling1d (Glob  (None, 32)                   0         ['relu[0][0]']                \n",
            " alMaxPooling1D)                                                                                  \n",
            "                                                                                                  \n",
            " dense (Dense)               (None, 8)                    264       ['global_max_pooling1d[0][0]']\n",
            "                                                                                                  \n",
            " dense_1 (Dense)             (None, 1)                    9         ['dense[0][0]']               \n",
            "                                                                                                  \n",
            "==================================================================================================\n",
            "Total params: 4945 (19.32 KB)\n",
            "Trainable params: 4945 (19.32 KB)\n",
            "Non-trainable params: 0 (0.00 Byte)\n",
            "__________________________________________________________________________________________________\n"
          ]
        }
      ],
      "source": [
        "from keras import models\n",
        "model_str = 'MM_dataset10k_Win5_NF32.keras'\n",
        "# model_str = 'MM_dataset80k_Win5_NF64.keras'\n",
        "# model_str = 'MM_dataset80k_Win5_NF128.keras'\n",
        "# model_str = 'MM_dataset80k_Win7_NF32.keras'\n",
        "# model_str = 'MM_dataset80k_Win7_NF64.keras'\n",
        "# model_str = 'MM_dataset80k_Win7_NF128.keras'\n",
        "# model_str = 'MM_dataset80k_Win10_NF32.keras'\n",
        "# model_str = 'MM_dataset80k_Win10_NF64.keras'\n",
        "# model_str = 'MM_dataset80k_Win10_NF128.keras'\n",
        "m = models.load_model(model_str)\n",
        "MAX_LEN = 100\n",
        "WIN_SIZE = int (model_str.split(\"_\")[2][3:])\n",
        "EXPL_WIN = WIN_SIZE + 3\n",
        "EXPL_EVAL_THR = 3\n",
        "dataset = model_str.split(\"_\")[1]+\".csv\"\n",
        "m.summary()"
      ]
    },
    {
      "cell_type": "code",
      "source": [
        "print(WIN_SIZE)\n",
        "print(dataset)"
      ],
      "metadata": {
        "id": "9XC8p5FzaGyo",
        "colab": {
          "base_uri": "https://localhost:8080/"
        },
        "outputId": "58a62d15-e1a5-4cf9-95a9-5509aa5e288a"
      },
      "execution_count": 3,
      "outputs": [
        {
          "output_type": "stream",
          "name": "stdout",
          "text": [
            "5\n",
            "dataset10k.csv\n"
          ]
        }
      ]
    },
    {
      "cell_type": "code",
      "source": [
        "from keras.utils import pad_sequences\n",
        "\n",
        "# sample to explain\n",
        "line = \"from __future__ import print_function\"\n",
        "def predict (lines):\n",
        "  samples = [  bytearray(line, encoding=\"utf-8\") for line in lines ]\n",
        "  samples_padded = pad_sequences(samples, maxlen=MAX_LEN, padding='post', truncating='post')\n",
        "  preds = m.predict(samples_padded)\n",
        "  # if pred < 0.5:\n",
        "  #   label=\"python2\"\n",
        "  # else:\n",
        "  #   label=\"python3\"\n",
        "  return preds\n",
        "\n",
        "predict([line, line])"
      ],
      "metadata": {
        "colab": {
          "base_uri": "https://localhost:8080/"
        },
        "id": "ICf3EUNLZhTo",
        "outputId": "e94efc34-073f-4afe-ace6-c6c330b33686"
      },
      "execution_count": 4,
      "outputs": [
        {
          "output_type": "stream",
          "name": "stdout",
          "text": [
            "1/1 [==============================] - 0s 318ms/step\n"
          ]
        },
        {
          "output_type": "execute_result",
          "data": {
            "text/plain": [
              "array([[0.04795397],\n",
              "       [0.04795397]], dtype=float32)"
            ]
          },
          "metadata": {},
          "execution_count": 4
        }
      ]
    },
    {
      "cell_type": "code",
      "source": [
        "import pandas as pd\n",
        "# sample neighboring\n",
        "def expl(loc):\n",
        "  lines = []\n",
        "  for i in range (len(loc)):\n",
        "    line = loc[:i] + \" \" * WIN_SIZE + loc [i+WIN_SIZE:]\n",
        "    print(line)\n",
        "    lines.append (line)\n",
        "  lines.append(loc)\n",
        "\n",
        "  y_train = predict (lines)\n",
        "  y_ref = y_train[-1][0]\n",
        "  print(y_ref)\n",
        "  df_t = pd.DataFrame(data=enumerate(lines[:-1]), columns=[\"index\", \"loc\"])\n",
        "  df_t[\"pred\"] = y_train[:-1]\n",
        "  df_t[\"gap\"] = df_t[\"pred\"].map(lambda y: abs(y - y_ref))\n",
        "  print (df_t)\n",
        "  print (df_t[\"gap\"].idxmax())\n",
        "  idx = df_t.loc[df_t[\"gap\"].idxmax()][\"index\"]\n",
        "  print (idx)\n",
        "  start_idx = max(idx - 2, 0)\n",
        "  return line[start_idx:start_idx+WIN_SIZE+3]\n",
        "\n",
        "\n",
        "expl = expl(line)\n",
        "expl\n"
      ],
      "metadata": {
        "colab": {
          "base_uri": "https://localhost:8080/",
          "height": 1000
        },
        "id": "oDJrgjhoZ5S1",
        "outputId": "50d8f139-8ea4-4a8d-ddbb-9ad42583621c"
      },
      "execution_count": 5,
      "outputs": [
        {
          "output_type": "stream",
          "name": "stdout",
          "text": [
            "     __future__ import print_function\n",
            "f     _future__ import print_function\n",
            "fr     future__ import print_function\n",
            "fro     uture__ import print_function\n",
            "from     ture__ import print_function\n",
            "from      ure__ import print_function\n",
            "from _     re__ import print_function\n",
            "from __     e__ import print_function\n",
            "from __f     __ import print_function\n",
            "from __fu     _ import print_function\n",
            "from __fut      import print_function\n",
            "from __futu     import print_function\n",
            "from __futur     mport print_function\n",
            "from __future     port print_function\n",
            "from __future_     ort print_function\n",
            "from __future__     rt print_function\n",
            "from __future__      t print_function\n",
            "from __future__ i      print_function\n",
            "from __future__ im     print_function\n",
            "from __future__ imp     rint_function\n",
            "from __future__ impo     int_function\n",
            "from __future__ impor     nt_function\n",
            "from __future__ import     t_function\n",
            "from __future__ import      _function\n",
            "from __future__ import p     function\n",
            "from __future__ import pr     unction\n",
            "from __future__ import pri     nction\n",
            "from __future__ import prin     ction\n",
            "from __future__ import print     tion\n",
            "from __future__ import print_     ion\n",
            "from __future__ import print_f     on\n",
            "from __future__ import print_fu     n\n",
            "from __future__ import print_fun     \n",
            "from __future__ import print_func     \n",
            "from __future__ import print_funct     \n",
            "from __future__ import print_functi     \n",
            "from __future__ import print_functio     \n",
            "2/2 [==============================] - 0s 6ms/step\n",
            "0.04795398\n",
            "    index                                        loc      pred           gap\n",
            "0       0           __future__ import print_function  0.044969  2.985425e-03\n",
            "1       1      f     _future__ import print_function  0.932944  8.849900e-01\n",
            "2       2      fr     future__ import print_function  0.618108  5.701539e-01\n",
            "3       3      fro     uture__ import print_function  0.953410  9.054556e-01\n",
            "4       4      from     ture__ import print_function  0.995540  9.475860e-01\n",
            "5       5      from      ure__ import print_function  0.385557  3.376033e-01\n",
            "6       6      from _     re__ import print_function  0.991894  9.439405e-01\n",
            "7       7      from __     e__ import print_function  0.997236  9.492816e-01\n",
            "8       8      from __f     __ import print_function  0.965018  9.170641e-01\n",
            "9       9      from __fu     _ import print_function  0.857928  8.099741e-01\n",
            "10     10      from __fut      import print_function  0.382863  3.349093e-01\n",
            "11     11      from __futu     import print_function  0.124443  7.648888e-02\n",
            "12     12      from __futur     mport print_function  0.013927  3.402713e-02\n",
            "13     13      from __future     port print_function  0.156219  1.082652e-01\n",
            "14     14      from __future_     ort print_function  0.047954  3.725290e-09\n",
            "15     15      from __future__     rt print_function  0.040386  7.567734e-03\n",
            "16     16      from __future__      t print_function  0.047954  3.725290e-09\n",
            "17     17      from __future__ i      print_function  0.026892  2.106227e-02\n",
            "18     18      from __future__ im     print_function  0.026892  2.106227e-02\n",
            "19     19      from __future__ imp     rint_function  0.051913  3.959283e-03\n",
            "20     20      from __future__ impo     int_function  0.111735  6.378088e-02\n",
            "21     21      from __future__ impor     nt_function  0.054292  6.337602e-03\n",
            "22     22      from __future__ import     t_function  0.159093  1.111390e-01\n",
            "23     23      from __future__ import      _function  0.159093  1.111390e-01\n",
            "24     24      from __future__ import p     function  0.230458  1.825044e-01\n",
            "25     25      from __future__ import pr     unction  0.909634  8.616800e-01\n",
            "26     26      from __future__ import pri     nction  0.168798  1.208436e-01\n",
            "27     27      from __future__ import prin     ction  0.797146  7.491916e-01\n",
            "28     28      from __future__ import print     tion  0.010207  3.774687e-02\n",
            "29     29      from __future__ import print_     ion  0.045802  2.151717e-03\n",
            "30     30      from __future__ import print_f     on  0.105379  5.742534e-02\n",
            "31     31      from __future__ import print_fu     n  0.000680  4.727404e-02\n",
            "32     32      from __future__ import print_fun       0.000680  4.727404e-02\n",
            "33     33     from __future__ import print_func       0.011492  3.646234e-02\n",
            "34     34    from __future__ import print_funct       0.000278  4.767593e-02\n",
            "35     35   from __future__ import print_functi       0.000441  4.751257e-02\n",
            "36     36  from __future__ import print_functio       0.000779  4.717542e-02\n",
            "7\n",
            "7\n"
          ]
        },
        {
          "output_type": "execute_result",
          "data": {
            "text/plain": [
              "'__future'"
            ],
            "application/vnd.google.colaboratory.intrinsic+json": {
              "type": "string"
            }
          },
          "metadata": {},
          "execution_count": 5
        }
      ]
    },
    {
      "cell_type": "markdown",
      "source": [
        "Evaluate sliding window explanations"
      ],
      "metadata": {
        "id": "H1WiCChGxDDm"
      }
    },
    {
      "cell_type": "code",
      "source": [
        "# prepare data once for all\n",
        "df = pd.read_csv(dataset, dtype={\n",
        "    '__future__': 'object',\n",
        "    'xrange': 'object'})\n",
        "df = df.drop ( df[df[\"lines of code\"].isnull()].index )\n",
        "# df"
      ],
      "metadata": {
        "id": "aa_zYWPxkiQL"
      },
      "execution_count": 7,
      "outputs": []
    },
    {
      "cell_type": "code",
      "source": [
        "# consider only lines with annotated explanations\n",
        "df_expl = df[df[\"explanation\"].notnull()]\n",
        "# add predictions\n",
        "df_expl = df_expl.join( pd.Series(name=\"pred\", data = predict(df_expl[\"lines of code\"]).reshape(-1), index=df_expl.index) )\n",
        "# consider only correct predictions\n",
        "df_expl[\"pred_class\"] = df_expl[\"pred\"].map(lambda x: 3 if x>0.5 else 2)\n",
        "df_expl = df_expl.loc[df_expl[\"pred_class\"] == df_expl[\"class\"]]\n",
        "df_expl.shape\n"
      ],
      "metadata": {
        "colab": {
          "base_uri": "https://localhost:8080/"
        },
        "id": "mmoIz-UQob3j",
        "outputId": "aadc2426-1601-44c0-bdfa-a7572ec1f3b5"
      },
      "execution_count": 8,
      "outputs": [
        {
          "output_type": "stream",
          "name": "stdout",
          "text": [
            "59/59 [==============================] - 0s 4ms/step\n"
          ]
        },
        {
          "output_type": "execute_result",
          "data": {
            "text/plain": [
              "(1859, 14)"
            ]
          },
          "metadata": {},
          "execution_count": 8
        }
      ]
    },
    {
      "cell_type": "code",
      "source": [
        "def expl_extract(r):\n",
        "  start_idx = max(r[\"idx_expl\"] - 2, 0)\n",
        "  line = r[\"lines of code\"]\n",
        "  return line[start_idx:start_idx + WIN_SIZE + 3]"
      ],
      "metadata": {
        "id": "DraVh27gS9i0"
      },
      "execution_count": 9,
      "outputs": []
    },
    {
      "cell_type": "code",
      "source": [
        "# evaluate explainability\n",
        "import re\n",
        "EXPL_EVAL_THR = 3\n",
        "\n",
        "#longest common subsequence\n",
        "def lcs(X, Y):\n",
        "    # find the length of the strings\n",
        "    m = len(X)\n",
        "    n = len(Y)\n",
        "    # declaring the array for storing the dp values\n",
        "    L = [[None]*(n + 1) for i in range(m + 1)]\n",
        "    \"\"\"Following steps build L[m + 1][n + 1] in bottom up fashion\n",
        "    Note: L[i][j] contains length of LCS of X[0..i-1]\n",
        "    and Y[0..j-1]\"\"\"\n",
        "    for i in range(m+1):\n",
        "        for j in range(n+1):\n",
        "            if i == 0 or j == 0 :\n",
        "                L[i][j] = 0\n",
        "            elif X[i-1] == Y[j-1]:\n",
        "                L[i][j] = L[i-1][j-1]+1\n",
        "            else:\n",
        "                L[i][j] = 0\n",
        "    return max ( max(l) for l in L )\n",
        "\n",
        "def eval_expl(r, col):\n",
        "  if re.search(re.compile(r'\\bu[\\'|\\\"]\\s*\\S+'), r[col]):\n",
        "    return True\n",
        "  return lcs(r[\"explanation\"], r[col]) >= EXPL_EVAL_THR"
      ],
      "metadata": {
        "id": "lxfIuhGDxHrc"
      },
      "execution_count": 10,
      "outputs": []
    },
    {
      "cell_type": "code",
      "source": [
        "\n",
        "def expl_all(locs):\n",
        "  df_x = pd.DataFrame(columns=[\"index\", \"loc\", \"ref\"], \\\n",
        "    data = [ [i, loc[:i] + \" \" * WIN_SIZE + loc [i+WIN_SIZE:], l] \\\n",
        "            for l, loc in enumerate(locs) \\\n",
        "             for i in range (len(loc)) \\\n",
        "              ] )\n",
        "  print (df_x.shape)\n",
        "  y_train = predict(df_x[\"loc\"])\n",
        "  y_ref = predict(locs)\n",
        "  df_x[\"pred\"] = list( y_train.reshape(-1) )\n",
        "  df_x[\"gap\"] = df_x.apply(lambda r: abs(r[\"pred\"] - y_ref[r[\"ref\"]][0]), axis=1)\n",
        "\n",
        "  return df_x\n"
      ],
      "metadata": {
        "id": "vwaQgXWzkIJa"
      },
      "execution_count": 11,
      "outputs": []
    },
    {
      "cell_type": "code",
      "source": [
        "%%time\n",
        "# sum_acc = 0\n",
        "# for i in range(0, df_expl.shape[0], 10000):\n",
        "# df_small = df_expl.iloc[i:i+10000].copy()\n",
        "df_small = df_expl\n",
        "df_t = expl_all(df_small[\"lines of code\"])\n",
        "maxidx = df_t.groupby(\"ref\")['gap'].idxmax()\n",
        "df_small[\"idx_expl\"]=df_t.loc[maxidx][\"index\"].values\n",
        "df_small[\"slidingW\"]=df_small.apply(expl_extract, axis=1)\n",
        "df_small[\"acc_expl_slidingW\"] = df_small.apply(eval_expl, col=\"slidingW\", axis=1)\n",
        "acc = sum(df_small[\"acc_expl_slidingW\"])\n",
        "print (f\"{acc}/{df_small.shape[0]}\")\n",
        "# sum_acc += acc"
      ],
      "metadata": {
        "colab": {
          "base_uri": "https://localhost:8080/"
        },
        "id": "4EVmxxY5pInv",
        "outputId": "d40fa588-4d5a-4d97-fc31-a0ce50a3cdea"
      },
      "execution_count": 13,
      "outputs": [
        {
          "output_type": "stream",
          "name": "stdout",
          "text": [
            "(83889, 3)\n",
            "2622/2622 [==============================] - 10s 4ms/step\n",
            "59/59 [==============================] - 0s 3ms/step\n",
            "1514/1859\n",
            "CPU times: user 14.1 s, sys: 706 ms, total: 14.8 s\n",
            "Wall time: 12.9 s\n"
          ]
        }
      ]
    },
    {
      "cell_type": "code",
      "source": [
        "f\"{acc * 100 / df_expl.shape[0]:.2f}\"\n",
        "# f\"{sum_acc * 100 / df_expl.shape[0]:.2f}\""
      ],
      "metadata": {
        "colab": {
          "base_uri": "https://localhost:8080/",
          "height": 35
        },
        "id": "Qiyve3qNm8Vt",
        "outputId": "566e8dbc-e7a7-4a00-c905-f9529e3636bd"
      },
      "execution_count": 14,
      "outputs": [
        {
          "output_type": "execute_result",
          "data": {
            "text/plain": [
              "'81.44'"
            ],
            "application/vnd.google.colaboratory.intrinsic+json": {
              "type": "string"
            }
          },
          "metadata": {},
          "execution_count": 14
        }
      ]
    },
    {
      "cell_type": "code",
      "source": [
        "# type(df_t.loc[maxidx][\"index\"])\n",
        "# df_small[\"idx_expl\"].isnull().any()"
      ],
      "metadata": {
        "id": "uMQEDHOdTjVG"
      },
      "execution_count": null,
      "outputs": []
    },
    {
      "cell_type": "code",
      "source": [
        "# I am not looking for the patterns for the moment\n",
        "# for col in ['print(', '__future__', 'xrange', ' range',\n",
        "#             'u\"', 'print ', 'unicode(', '__next__(', 'raw_input(']:\n",
        "#   den = df_small [ df_small[col].notnull()].shape[0]\n",
        "#   num = df_small [ df_small[col].notnull()].loc[ df_small[\"acc_expl_slidingW\"] == True ].shape[0]\n",
        "#   print (col, den, num)"
      ],
      "metadata": {
        "id": "0ut4pJ7ZvilW"
      },
      "execution_count": null,
      "outputs": []
    },
    {
      "cell_type": "code",
      "source": [
        "# The old way, much slower\n",
        "# can be used for verification (the two methods must give equal values)\n",
        "\n",
        "# df_small = df_expl.head(100).copy()\n",
        "# df_small[\"slidingW\"] = df_small[\"lines of code\"].map(slidingW)\n",
        "# df_small[\"acc_expl_slidingW\"] = df_small.apply(eval_expl, col=\"slidingW\", axis=1)\n",
        "# exp_acc_max = sum(df_small[\"acc_expl_slidingW\"]) * 100 / df_small.shape[0]\n",
        "# f\"{exp_acc_max:.2f}\""
      ],
      "metadata": {
        "id": "6TfM7oXcXKwE"
      },
      "execution_count": null,
      "outputs": []
    }
  ]
}