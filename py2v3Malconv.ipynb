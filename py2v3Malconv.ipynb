{
  "nbformat": 4,
  "nbformat_minor": 0,
  "metadata": {
    "colab": {
      "provenance": [],
      "include_colab_link": true
    },
    "kernelspec": {
      "name": "python3",
      "display_name": "Python 3"
    },
    "language_info": {
      "name": "python"
    }
  },
  "cells": [
    {
      "cell_type": "markdown",
      "metadata": {
        "id": "view-in-github",
        "colab_type": "text"
      },
      "source": [
        "<a href=\"https://colab.research.google.com/github/mnassar/py2vpy3xai/blob/main/py2v3Malconv.ipynb\" target=\"_parent\"><img src=\"https://colab.research.google.com/assets/colab-badge.svg\" alt=\"Open In Colab\"/></a>"
      ]
    },
    {
      "cell_type": "markdown",
      "source": [
        "@author: mnassar\n",
        "\n",
        "This notebook contains the modified malconv architecture and its inherent explainer.\n",
        "\n",
        "It also contains the code for discovering new patterns."
      ],
      "metadata": {
        "id": "uvbQpyrDeVbM"
      }
    },
    {
      "cell_type": "markdown",
      "source": [
        "Modified Malconv Neural Network Architecture"
      ],
      "metadata": {
        "id": "6ivDqU7yJAWb"
      }
    },
    {
      "cell_type": "code",
      "source": [
        "import tensorflow as tf"
      ],
      "metadata": {
        "id": "rFXTFLzavSmU"
      },
      "execution_count": null,
      "outputs": []
    },
    {
      "cell_type": "code",
      "source": [
        "from keras import regularizers\n",
        "# class fused_lasso_regularizer(regularizers.Regularizer):\n",
        "#     def __init__(self, fl_coef):\n",
        "#         self.fl_coef = fl_coef\n",
        "\n",
        "#     def __call__(self, weight_matrix):\n",
        "#         minus = tf.math.subtract(weight_matrix[1:WIN_SIZE,:], weight_matrix[:WIN_SIZE-1 ,:])\n",
        "#         fl = self.fl_coef * tf.math.reduce_mean(tf.math.square(minus))\n",
        "#         return fl"
      ],
      "metadata": {
        "id": "DNfRVQaLQje0"
      },
      "execution_count": null,
      "outputs": []
    },
    {
      "cell_type": "code",
      "execution_count": null,
      "metadata": {
        "colab": {
          "base_uri": "https://localhost:8080/"
        },
        "id": "eYYoeO9i-IXz",
        "outputId": "e2b2041f-5bbe-46f7-dec0-86d2884f69a5"
      },
      "outputs": [
        {
          "output_type": "stream",
          "name": "stdout",
          "text": [
            "Model: \"m2\"\n",
            "__________________________________________________________________________________________________\n",
            " Layer (type)                Output Shape                 Param #   Connected to                  \n",
            "==================================================================================================\n",
            " input_1 (InputLayer)        [(None, 100)]                0         []                            \n",
            "                                                                                                  \n",
            " embedding (Embedding)       (None, 100, 8)               2048      ['input_1[0][0]']             \n",
            "                                                                                                  \n",
            " conv1d_1 (Conv1D)           (None, 100, 64)              5184      ['embedding[0][0]']           \n",
            "                                                                                                  \n",
            " conv1d (Conv1D)             (None, 100, 64)              5184      ['embedding[0][0]']           \n",
            "                                                                                                  \n",
            " sigmoid (Activation)        (None, 100, 64)              0         ['conv1d_1[0][0]']            \n",
            "                                                                                                  \n",
            " multiply (Multiply)         (None, 100, 64)              0         ['conv1d[0][0]',              \n",
            "                                                                     'sigmoid[0][0]']             \n",
            "                                                                                                  \n",
            " relu (Activation)           (None, 100, 64)              0         ['multiply[0][0]']            \n",
            "                                                                                                  \n",
            " global_max_pooling1d (Glob  (None, 64)                   0         ['relu[0][0]']                \n",
            " alMaxPooling1D)                                                                                  \n",
            "                                                                                                  \n",
            " dense (Dense)               (None, 8)                    520       ['global_max_pooling1d[0][0]']\n",
            "                                                                                                  \n",
            " dense_1 (Dense)             (None, 1)                    9         ['dense[0][0]']               \n",
            "                                                                                                  \n",
            "==================================================================================================\n",
            "Total params: 12945 (50.57 KB)\n",
            "Trainable params: 12945 (50.57 KB)\n",
            "Non-trainable params: 0 (0.00 Byte)\n",
            "__________________________________________________________________________________________________\n"
          ]
        }
      ],
      "source": [
        "import tensorflow as tf\n",
        "\n",
        "from keras.models import Model\n",
        "from keras.layers import Dense, Embedding, Conv1D, multiply, GlobalMaxPool1D, Input, Activation\n",
        "\n",
        "\n",
        "MAX_LEN = 100\n",
        "WIN_SIZE = 7\n",
        "NB_FILTERS = 64\n",
        "\n",
        "def Malconv(max_len=MAX_LEN, win_size=WIN_SIZE, vocab_size=256):\n",
        "    inp = Input((max_len,))\n",
        "    emb = Embedding(vocab_size, 8)(inp)\n",
        "    conv1 = Conv1D(kernel_size=(win_size), filters=NB_FILTERS, strides=(1), padding='same')(emb)\n",
        "    conv2 = Conv1D(kernel_size=(win_size), filters=NB_FILTERS, strides=(1), padding='same')(emb)\n",
        "    # conv1 = Conv1D(kernel_size=(win_size), filters=NB_FILTERS, strides=(1), padding='same',\n",
        "    #                kernel_regularizer=fused_lasso_regularizer(fl_coef=0.1))(emb)\n",
        "    # conv2 = Conv1D(kernel_size=(win_size), filters=NB_FILTERS, strides=(1), padding='same',\n",
        "    #                kernel_regularizer=fused_lasso_regularizer(fl_coef=0.1))(emb)\n",
        "    a = Activation('sigmoid', name='sigmoid')(conv2)\n",
        "    mul = multiply([conv1, a])\n",
        "    a = Activation('relu', name='relu', activity_regularizer=regularizers.L1(0.01))(mul) #, activity_regularizer=regularizers.L1(0.01))(mul)\n",
        "    # a = tf.squeeze(a, axis=2)\n",
        "    p = GlobalMaxPool1D()(a)\n",
        "    d = Dense(8)(p)\n",
        "    out = Dense(1, activation='sigmoid')(d)\n",
        "    return Model(inp, out)\n",
        "\n",
        "\n",
        "m = Malconv(win_size=10)\n",
        "m._name = \"m2\"\n",
        "m.summary()"
      ]
    },
    {
      "cell_type": "markdown",
      "source": [
        "Read and preprocess the data"
      ],
      "metadata": {
        "id": "g7ynwCydJFKL"
      }
    },
    {
      "cell_type": "code",
      "source": [
        "# from keras.preprocessing.sequence import pad_sequences\n",
        "# from keras_preprocessing.sequence import pad_sequences\n",
        "from keras.utils import pad_sequences\n",
        "import numpy as np\n",
        "import pandas as pd\n",
        "\n",
        "df = pd.read_csv(\"dataset80k.csv\",\n",
        "  dtype={\n",
        "    '__future__': 'object',\n",
        "    'xrange': 'object'})\n",
        "\n",
        "df[\"class\"].unique()"
      ],
      "metadata": {
        "colab": {
          "base_uri": "https://localhost:8080/"
        },
        "id": "Pdn_FiTR__NJ",
        "outputId": "4fba025c-d0eb-4f89-f49f-ed75734771f9"
      },
      "execution_count": null,
      "outputs": [
        {
          "output_type": "execute_result",
          "data": {
            "text/plain": [
              "array([3, 2])"
            ]
          },
          "metadata": {},
          "execution_count": 5
        }
      ]
    },
    {
      "cell_type": "code",
      "source": [
        "# clean NAN lines\n",
        "df = df.drop ( df[df[\"lines of code\"].isnull()].index )\n",
        "df[df[\"lines of code\"].isnull()]"
      ],
      "metadata": {
        "colab": {
          "base_uri": "https://localhost:8080/",
          "height": 67
        },
        "id": "T6A5vDDiCpVE",
        "outputId": "0c9d213c-beb6-4141-c757-a22810cd2fd6"
      },
      "execution_count": null,
      "outputs": [
        {
          "output_type": "execute_result",
          "data": {
            "text/plain": [
              "Empty DataFrame\n",
              "Columns: [lines of code, class, print(, __future__, xrange,  range, u\", print , unicode(, __next__(, raw_input(, explanation]\n",
              "Index: []"
            ],
            "text/html": [
              "\n",
              "  <div id=\"df-9db5e93e-034a-4aa4-ab03-28df475aed4d\" class=\"colab-df-container\">\n",
              "    <div>\n",
              "<style scoped>\n",
              "    .dataframe tbody tr th:only-of-type {\n",
              "        vertical-align: middle;\n",
              "    }\n",
              "\n",
              "    .dataframe tbody tr th {\n",
              "        vertical-align: top;\n",
              "    }\n",
              "\n",
              "    .dataframe thead th {\n",
              "        text-align: right;\n",
              "    }\n",
              "</style>\n",
              "<table border=\"1\" class=\"dataframe\">\n",
              "  <thead>\n",
              "    <tr style=\"text-align: right;\">\n",
              "      <th></th>\n",
              "      <th>lines of code</th>\n",
              "      <th>class</th>\n",
              "      <th>print(</th>\n",
              "      <th>__future__</th>\n",
              "      <th>xrange</th>\n",
              "      <th>range</th>\n",
              "      <th>u\"</th>\n",
              "      <th>print</th>\n",
              "      <th>unicode(</th>\n",
              "      <th>__next__(</th>\n",
              "      <th>raw_input(</th>\n",
              "      <th>explanation</th>\n",
              "    </tr>\n",
              "  </thead>\n",
              "  <tbody>\n",
              "  </tbody>\n",
              "</table>\n",
              "</div>\n",
              "    <div class=\"colab-df-buttons\">\n",
              "\n",
              "  <div class=\"colab-df-container\">\n",
              "    <button class=\"colab-df-convert\" onclick=\"convertToInteractive('df-9db5e93e-034a-4aa4-ab03-28df475aed4d')\"\n",
              "            title=\"Convert this dataframe to an interactive table.\"\n",
              "            style=\"display:none;\">\n",
              "\n",
              "  <svg xmlns=\"http://www.w3.org/2000/svg\" height=\"24px\" viewBox=\"0 -960 960 960\">\n",
              "    <path d=\"M120-120v-720h720v720H120Zm60-500h600v-160H180v160Zm220 220h160v-160H400v160Zm0 220h160v-160H400v160ZM180-400h160v-160H180v160Zm440 0h160v-160H620v160ZM180-180h160v-160H180v160Zm440 0h160v-160H620v160Z\"/>\n",
              "  </svg>\n",
              "    </button>\n",
              "\n",
              "  <style>\n",
              "    .colab-df-container {\n",
              "      display:flex;\n",
              "      gap: 12px;\n",
              "    }\n",
              "\n",
              "    .colab-df-convert {\n",
              "      background-color: #E8F0FE;\n",
              "      border: none;\n",
              "      border-radius: 50%;\n",
              "      cursor: pointer;\n",
              "      display: none;\n",
              "      fill: #1967D2;\n",
              "      height: 32px;\n",
              "      padding: 0 0 0 0;\n",
              "      width: 32px;\n",
              "    }\n",
              "\n",
              "    .colab-df-convert:hover {\n",
              "      background-color: #E2EBFA;\n",
              "      box-shadow: 0px 1px 2px rgba(60, 64, 67, 0.3), 0px 1px 3px 1px rgba(60, 64, 67, 0.15);\n",
              "      fill: #174EA6;\n",
              "    }\n",
              "\n",
              "    .colab-df-buttons div {\n",
              "      margin-bottom: 4px;\n",
              "    }\n",
              "\n",
              "    [theme=dark] .colab-df-convert {\n",
              "      background-color: #3B4455;\n",
              "      fill: #D2E3FC;\n",
              "    }\n",
              "\n",
              "    [theme=dark] .colab-df-convert:hover {\n",
              "      background-color: #434B5C;\n",
              "      box-shadow: 0px 1px 3px 1px rgba(0, 0, 0, 0.15);\n",
              "      filter: drop-shadow(0px 1px 2px rgba(0, 0, 0, 0.3));\n",
              "      fill: #FFFFFF;\n",
              "    }\n",
              "  </style>\n",
              "\n",
              "    <script>\n",
              "      const buttonEl =\n",
              "        document.querySelector('#df-9db5e93e-034a-4aa4-ab03-28df475aed4d button.colab-df-convert');\n",
              "      buttonEl.style.display =\n",
              "        google.colab.kernel.accessAllowed ? 'block' : 'none';\n",
              "\n",
              "      async function convertToInteractive(key) {\n",
              "        const element = document.querySelector('#df-9db5e93e-034a-4aa4-ab03-28df475aed4d');\n",
              "        const dataTable =\n",
              "          await google.colab.kernel.invokeFunction('convertToInteractive',\n",
              "                                                    [key], {});\n",
              "        if (!dataTable) return;\n",
              "\n",
              "        const docLinkHtml = 'Like what you see? Visit the ' +\n",
              "          '<a target=\"_blank\" href=https://colab.research.google.com/notebooks/data_table.ipynb>data table notebook</a>'\n",
              "          + ' to learn more about interactive tables.';\n",
              "        element.innerHTML = '';\n",
              "        dataTable['output_type'] = 'display_data';\n",
              "        await google.colab.output.renderOutput(dataTable, element);\n",
              "        const docLink = document.createElement('div');\n",
              "        docLink.innerHTML = docLinkHtml;\n",
              "        element.appendChild(docLink);\n",
              "      }\n",
              "    </script>\n",
              "  </div>\n",
              "\n",
              "\n",
              "    </div>\n",
              "  </div>\n"
            ],
            "application/vnd.google.colaboratory.intrinsic+json": {
              "type": "dataframe",
              "repr_error": "Out of range float values are not JSON compliant: nan"
            }
          },
          "metadata": {},
          "execution_count": 6
        }
      ]
    },
    {
      "cell_type": "code",
      "source": [
        "x_train = [ bytearray(line, encoding=\"utf-8\") for line in df[\"lines of code\"] ]\n",
        "y_train = np.array ( df[\"class\"] - 2 )\n",
        "\n",
        "x_train_padded = pad_sequences(x_train, maxlen=MAX_LEN, padding='post', truncating='post')\n"
      ],
      "metadata": {
        "id": "8tarANrGCo5G"
      },
      "execution_count": null,
      "outputs": []
    },
    {
      "cell_type": "code",
      "source": [
        "x_train_padded.shape"
      ],
      "metadata": {
        "colab": {
          "base_uri": "https://localhost:8080/"
        },
        "id": "2qVFogu61gJg",
        "outputId": "1d2dcf5d-031a-4786-b95c-0db5bfaba5d8"
      },
      "execution_count": null,
      "outputs": [
        {
          "output_type": "execute_result",
          "data": {
            "text/plain": [
              "(81700, 100)"
            ]
          },
          "metadata": {},
          "execution_count": 8
        }
      ]
    },
    {
      "cell_type": "code",
      "source": [
        "def data_generator(x_data, y_data, batch_size, shuffle):\n",
        "    idx = np.arange(len(x_data))\n",
        "    if shuffle:\n",
        "        np.random.shuffle(idx)\n",
        "    nb_batches = len(x_data) // batch_size + 1\n",
        "    batches = [ idx [ range ( batch_size * i, min(len(x_data), batch_size * (i+1)) ) ]\n",
        "               for i in range(nb_batches) ]\n",
        "    while True:\n",
        "        for i in batches:\n",
        "            xx = x_data[i]\n",
        "            yy = y_data[i]\n",
        "            yield (xx, yy)\n"
      ],
      "metadata": {
        "id": "ZSrue_LCHLqC"
      },
      "execution_count": null,
      "outputs": []
    },
    {
      "cell_type": "code",
      "source": [
        "d = data_generator(x_train_padded, y_train, 64, shuffle=True)\n",
        "next(d)[0].shape"
      ],
      "metadata": {
        "colab": {
          "base_uri": "https://localhost:8080/"
        },
        "id": "Zzhw9C_IIVyV",
        "outputId": "5a5f6d6d-dc4b-41d3-b40d-1ebecfc21e97"
      },
      "execution_count": null,
      "outputs": [
        {
          "output_type": "execute_result",
          "data": {
            "text/plain": [
              "(64, 100)"
            ]
          },
          "metadata": {},
          "execution_count": 10
        }
      ]
    },
    {
      "cell_type": "markdown",
      "source": [
        "Training"
      ],
      "metadata": {
        "id": "3wiu52MxJKLB"
      }
    },
    {
      "cell_type": "code",
      "source": [
        "import matplotlib.pyplot as plt"
      ],
      "metadata": {
        "id": "7sSjjOV5GrHL"
      },
      "execution_count": null,
      "outputs": []
    },
    {
      "cell_type": "code",
      "source": [
        "import tensorflow as tf\n",
        "from keras.callbacks import ModelCheckpoint, EarlyStopping\n",
        "\n",
        "from tensorflow.keras.losses import BinaryCrossentropy\n",
        "from os.path import join\n",
        "import matplotlib.pyplot as plt\n",
        "\n",
        "BATCH_SIZE = 16\n",
        "NB_EPOCHS = 20\n",
        "\n",
        "# bce = BinaryCrossentropy()\n",
        "# # ear = EarlyStopping(monitor='val_acc', patience=5)\n",
        "# # mcp = ModelCheckpoint(filepath='malconv.keras')\n",
        "# def custom_loss(y_true, y_pred):\n",
        "\n",
        "#   return bce(y_true, y_pred)\n",
        "\n",
        "m.compile(loss='binary_crossentropy', optimizer='adam', metrics=['acc'])\n",
        "\n",
        "history = m.fit(\n",
        "    data_generator(x_train_padded, y_train, BATCH_SIZE, shuffle=True),\n",
        "    steps_per_epoch=len(x_train)//BATCH_SIZE + 1,\n",
        "    epochs=NB_EPOCHS,\n",
        "    verbose=1,\n",
        "    # callbacks=[mcp],\n",
        "    )\n",
        "\n",
        "plt.plot(history.history['acc'])\n",
        "# plt.plot(history.history['val_acc'])\n",
        "\n"
      ],
      "metadata": {
        "id": "PkaJPylCI1m4",
        "colab": {
          "base_uri": "https://localhost:8080/",
          "height": 1000
        },
        "outputId": "5310bf3c-4d43-4dca-82c9-9eec16f0fb84"
      },
      "execution_count": null,
      "outputs": [
        {
          "output_type": "stream",
          "name": "stdout",
          "text": [
            "Epoch 1/20\n",
            "5107/5107 [==============================] - 41s 8ms/step - loss: 0.1296 - acc: 0.9648\n",
            "Epoch 2/20\n",
            "5107/5107 [==============================] - 39s 8ms/step - loss: 0.0702 - acc: 0.9830\n",
            "Epoch 3/20\n",
            "5107/5107 [==============================] - 39s 8ms/step - loss: 0.0599 - acc: 0.9848\n",
            "Epoch 4/20\n",
            "5107/5107 [==============================] - 39s 8ms/step - loss: 0.0535 - acc: 0.9863\n",
            "Epoch 5/20\n",
            "5107/5107 [==============================] - 43s 8ms/step - loss: 0.0492 - acc: 0.9883\n",
            "Epoch 6/20\n",
            "5107/5107 [==============================] - 59s 12ms/step - loss: 0.0458 - acc: 0.9900\n",
            "Epoch 7/20\n",
            "5107/5107 [==============================] - 59s 11ms/step - loss: 0.0432 - acc: 0.9906\n",
            "Epoch 8/20\n",
            "5107/5107 [==============================] - 50s 10ms/step - loss: 0.0411 - acc: 0.9910\n",
            "Epoch 9/20\n",
            "5107/5107 [==============================] - 51s 10ms/step - loss: 0.0398 - acc: 0.9909\n",
            "Epoch 10/20\n",
            "5107/5107 [==============================] - 43s 8ms/step - loss: 0.0378 - acc: 0.9913\n",
            "Epoch 11/20\n",
            "5107/5107 [==============================] - 61s 12ms/step - loss: 0.0372 - acc: 0.9914\n",
            "Epoch 12/20\n",
            "5107/5107 [==============================] - 58s 11ms/step - loss: 0.0365 - acc: 0.9917\n",
            "Epoch 13/20\n",
            "5107/5107 [==============================] - 42s 8ms/step - loss: 0.0352 - acc: 0.9921\n",
            "Epoch 14/20\n",
            "5107/5107 [==============================] - 55s 11ms/step - loss: 0.0348 - acc: 0.9918\n",
            "Epoch 15/20\n",
            "5107/5107 [==============================] - 39s 8ms/step - loss: 0.0340 - acc: 0.9920\n",
            "Epoch 16/20\n",
            "5107/5107 [==============================] - 39s 8ms/step - loss: 0.0332 - acc: 0.9923\n",
            "Epoch 17/20\n",
            "5107/5107 [==============================] - 40s 8ms/step - loss: 0.0327 - acc: 0.9922\n",
            "Epoch 18/20\n",
            "5107/5107 [==============================] - 39s 8ms/step - loss: 0.0323 - acc: 0.9924\n",
            "Epoch 19/20\n",
            "5107/5107 [==============================] - 40s 8ms/step - loss: 0.0313 - acc: 0.9926\n",
            "Epoch 20/20\n",
            "5107/5107 [==============================] - 41s 8ms/step - loss: 0.0313 - acc: 0.9927\n"
          ]
        },
        {
          "output_type": "execute_result",
          "data": {
            "text/plain": [
              "[<matplotlib.lines.Line2D at 0x7e53e81ad270>]"
            ]
          },
          "metadata": {},
          "execution_count": 16
        },
        {
          "output_type": "display_data",
          "data": {
            "text/plain": [
              "<Figure size 640x480 with 1 Axes>"
            ],
            "image/png": "[encoded data removed]"
          },
          "metadata": {}
        }
      ]
    },
    {
      "cell_type": "code",
      "source": [
        "m.save(\"model.keras\")"
      ],
      "metadata": {
        "id": "8KQwG-33AjTi"
      },
      "execution_count": null,
      "outputs": []
    },
    {
      "cell_type": "code",
      "source": [
        "from keras import models\n",
        "m = models.load_model('model.keras')\n",
        "m.summary()\n"
      ],
      "metadata": {
        "id": "Jgmlbj6YAzOs",
        "colab": {
          "base_uri": "https://localhost:8080/"
        },
        "outputId": "cf9c053c-14f7-4435-a66d-1d5d16e801f0"
      },
      "execution_count": null,
      "outputs": [
        {
          "output_type": "stream",
          "name": "stderr",
          "text": [
            "WARNING:absl:Skipping variable loading for optimizer 'Adam', because it has 19 variables whereas the saved optimizer has 0 variables. \n"
          ]
        },
        {
          "output_type": "stream",
          "name": "stdout",
          "text": [
            "Model: \"MM_dataset80k_Win7_NF64\"\n",
            "__________________________________________________________________________________________________\n",
            " Layer (type)                Output Shape                 Param #   Connected to                  \n",
            "==================================================================================================\n",
            " input_10 (InputLayer)       [(None, 100)]                0         []                            \n",
            "                                                                                                  \n",
            " embedding_9 (Embedding)     (None, 100, 8)               2048      ['input_10[0][0]']            \n",
            "                                                                                                  \n",
            " conv1d_19 (Conv1D)          (None, 100, 64)              3648      ['embedding_9[0][0]']         \n",
            "                                                                                                  \n",
            " conv1d_18 (Conv1D)          (None, 100, 64)              3648      ['embedding_9[0][0]']         \n",
            "                                                                                                  \n",
            " sigmoid (Activation)        (None, 100, 64)              0         ['conv1d_19[0][0]']           \n",
            "                                                                                                  \n",
            " multiply_9 (Multiply)       (None, 100, 64)              0         ['conv1d_18[0][0]',           \n",
            "                                                                     'sigmoid[0][0]']             \n",
            "                                                                                                  \n",
            " relu (Activation)           (None, 100, 64)              0         ['multiply_9[0][0]']          \n",
            "                                                                                                  \n",
            " global_max_pooling1d_9 (Gl  (None, 64)                   0         ['relu[0][0]']                \n",
            " obalMaxPooling1D)                                                                                \n",
            "                                                                                                  \n",
            " dense_18 (Dense)            (None, 8)                    520       ['global_max_pooling1d_9[0][0]\n",
            "                                                                    ']                            \n",
            "                                                                                                  \n",
            " dense_19 (Dense)            (None, 1)                    9         ['dense_18[0][0]']            \n",
            "                                                                                                  \n",
            "==================================================================================================\n",
            "Total params: 9873 (38.57 KB)\n",
            "Trainable params: 9873 (38.57 KB)\n",
            "Non-trainable params: 0 (0.00 Byte)\n",
            "__________________________________________________________________________________________________\n"
          ]
        }
      ]
    },
    {
      "cell_type": "markdown",
      "source": [
        "Gradient Evaluation"
      ],
      "metadata": {
        "id": "g_DrXUEu9ydN"
      }
    },
    {
      "cell_type": "code",
      "source": [
        "m.layers"
      ],
      "metadata": {
        "id": "VLsQORy5CjvM",
        "colab": {
          "base_uri": "https://localhost:8080/"
        },
        "outputId": "78d5de1b-7efd-4a5a-cb68-31bbe8c80d58"
      },
      "execution_count": null,
      "outputs": [
        {
          "output_type": "execute_result",
          "data": {
            "text/plain": [
              "[<keras.src.engine.input_layer.InputLayer at 0x7e53d8eed0f0>,\n",
              " <keras.src.layers.core.embedding.Embedding at 0x7e53d8eed4e0>,\n",
              " <keras.src.layers.convolutional.conv1d.Conv1D at 0x7e53d8eed7b0>,\n",
              " <keras.src.layers.convolutional.conv1d.Conv1D at 0x7e53d8eeddb0>,\n",
              " <keras.src.layers.core.activation.Activation at 0x7e53d8eee2f0>,\n",
              " <keras.src.layers.merging.multiply.Multiply at 0x7e53d8eee4a0>,\n",
              " <keras.src.layers.core.activation.Activation at 0x7e53d8eee710>,\n",
              " <keras.src.layers.pooling.global_max_pooling1d.GlobalMaxPooling1D at 0x7e53d8eeeaa0>,\n",
              " <keras.src.layers.core.dense.Dense at 0x7e53d8eeed70>,\n",
              " <keras.src.layers.core.dense.Dense at 0x7e53d8eef0d0>]"
            ]
          },
          "metadata": {},
          "execution_count": 19
        }
      ]
    },
    {
      "cell_type": "code",
      "source": [
        "# gradient playground\n",
        "import tensorflow as tf\n",
        "from tensorflow.keras.losses import BinaryCrossentropy\n",
        "\n",
        "bce = BinaryCrossentropy()\n",
        "\n",
        "def custom_loss(y_true, y_pred):\n",
        "  return bce(y_true, y_pred)\n",
        "\n",
        "\n",
        "d = data_generator(x_train_padded, y_train, 1, shuffle=True)\n",
        "b_t, y_t = next(d)\n",
        "x_t = tf.cast(b_t, dtype=tf.float32)\n",
        "with tf.GradientTape() as tape:\n",
        "  tape.watch(x_t)\n",
        "  out = m(x_t)\n",
        "j = tape.gradient(out, x_t)\n",
        "print(j)"
      ],
      "metadata": {
        "id": "3PX-i_Ax90n1",
        "colab": {
          "base_uri": "https://localhost:8080/"
        },
        "outputId": "0af19049-fbe1-4bd8-bd92-c741dcd79c39"
      },
      "execution_count": null,
      "outputs": [
        {
          "output_type": "stream",
          "name": "stdout",
          "text": [
            "None\n"
          ]
        }
      ]
    },
    {
      "cell_type": "markdown",
      "source": [
        "Evaluate explainability"
      ],
      "metadata": {
        "id": "U0pMM876LRkz"
      }
    },
    {
      "cell_type": "code",
      "source": [
        "# explanation window (length of extracted explanation)\n",
        "EXPL_WIN = WIN_SIZE + 3\n",
        "# explanation successful if longest common substring (contiguous) is greater or equal to expl_eval_thr\n",
        "EXPL_EVAL_THR = 3"
      ],
      "metadata": {
        "id": "42XLIzRCnKxD"
      },
      "execution_count": null,
      "outputs": []
    },
    {
      "cell_type": "code",
      "source": [
        "# we take the values of the filters just before max pooling\n",
        "# we aggregate by taking the max over the filters' values\n",
        "intermediate_layer_model = Model(inputs=m.input, outputs=m.get_layer(\"relu\").output)"
      ],
      "metadata": {
        "id": "b_GiyPKqPBCg"
      },
      "execution_count": null,
      "outputs": []
    },
    {
      "cell_type": "code",
      "source": [
        "# sample to explain\n",
        "line = \"from __future__ import kungfu\"\n",
        "sample = [  bytearray(line, encoding=\"utf-8\") ]\n",
        "sample_padded = pad_sequences(sample, maxlen=MAX_LEN, padding='post', truncating='post')\n",
        "pred = m.predict(sample_padded)\n",
        "if pred < 0.5:\n",
        "  label=\"python2\"\n",
        "else:\n",
        "  label=\"python3\"\n",
        "print (pred, label)\n",
        "\n",
        "filters = intermediate_layer_model.predict(sample_padded)\n",
        "max_filter = np.average(filters,axis=2)\n",
        "print (max_filter.shape)\n",
        "fig, ax = plt.subplots(1,1)\n",
        "\n",
        "ax.plot(max_filter[0][:len(line)])\n",
        "ax.set_title(label)\n",
        "ax.set_xticks(range(len(line)))\n",
        "ax.set_xticklabels(list(line), rotation=45, fontsize=18)\n",
        "label"
      ],
      "metadata": {
        "colab": {
          "base_uri": "https://localhost:8080/",
          "height": 560
        },
        "id": "Px3sQiTdPlef",
        "outputId": "f22718d2-7a5d-4268-fabe-efc2c087ce5b"
      },
      "execution_count": null,
      "outputs": [
        {
          "output_type": "stream",
          "name": "stdout",
          "text": [
            "1/1 [==============================] - 0s 23ms/step\n",
            "[[0.9984287]] python3\n",
            "1/1 [==============================] - 0s 24ms/step\n",
            "(1, 100)\n"
          ]
        },
        {
          "output_type": "execute_result",
          "data": {
            "text/plain": [
              "'python3'"
            ],
            "application/vnd.google.colaboratory.intrinsic+json": {
              "type": "string"
            }
          },
          "metadata": {},
          "execution_count": 17
        },
        {
          "output_type": "display_data",
          "data": {
            "text/plain": [
              "<Figure size 640x480 with 1 Axes>"
            ],
            "image/png": "[encoded data removed]"
          },
          "metadata": {}
        }
      ]
    },
    {
      "cell_type": "code",
      "source": [
        "# we will try with two approaches:\n",
        "# - take the max across all filters for each position\n",
        "# - take the average across all filters for each position\n",
        "# we take the argmax of the aggregation across all positions as the start index for explaining\n",
        "\n",
        "samples = [ bytearray(line, encoding=\"utf-8\") for line in df[df[\"explanation\"].notnull()][\"lines of code\"] ]\n",
        "# samples\n",
        "samples_padded = pad_sequences(samples, maxlen=MAX_LEN, padding='post', truncating='post')\n",
        "\n",
        "filters = intermediate_layer_model.predict(samples_padded)\n",
        "\n",
        "\n",
        "max_filter = np.max(filters, axis=2)\n",
        "avg_filter = np.average(filters, axis=2)\n",
        "\n",
        "print ( max_filter.shape )\n",
        "print ( avg_filter.shape )\n",
        "\n",
        "print ( max_filter.argmax(axis=1) )\n",
        "print ( avg_filter.argmax(axis=1) )\n"
      ],
      "metadata": {
        "colab": {
          "base_uri": "https://localhost:8080/"
        },
        "id": "5MFHo2-BREyj",
        "outputId": "963a6c55-78d6-453a-efee-44bc924b990f"
      },
      "execution_count": null,
      "outputs": [
        {
          "output_type": "stream",
          "name": "stdout",
          "text": [
            "555/555 [==============================] - 3s 6ms/step\n",
            "(17733, 100)\n",
            "(17733, 100)\n",
            "[30 33 36 ...  0 26  8]\n",
            "[13 33 36 ...  0 26  8]\n"
          ]
        }
      ]
    },
    {
      "cell_type": "code",
      "source": [
        "# m.predict(samples_padded).reshape(-1)"
      ],
      "metadata": {
        "id": "PlEshV3spaIl"
      },
      "execution_count": null,
      "outputs": []
    },
    {
      "cell_type": "code",
      "source": [
        "df_expl = df[df[\"explanation\"].notnull()]\n",
        "\n",
        "df_expl = df_expl.join( pd.Series(name=\"pred\", data = m.predict(samples_padded).reshape(-1), index=df_expl.index) )\n",
        "df_expl = df_expl.join( pd.Series(name=\"max_max_index\", data= max_filter.argmax(axis=1), index=df_expl.index) )\n",
        "df_expl = df_expl.join( pd.Series(name=\"max_avg_index\", data= avg_filter.argmax(axis=1), index=df_expl.index) )"
      ],
      "metadata": {
        "colab": {
          "base_uri": "https://localhost:8080/"
        },
        "id": "LPFp_u0RTniN",
        "outputId": "36309bab-1aab-4e2e-e0b6-7543ed3322b9"
      },
      "execution_count": null,
      "outputs": [
        {
          "output_type": "stream",
          "name": "stdout",
          "text": [
            "555/555 [==============================] - 4s 7ms/step\n"
          ]
        }
      ]
    },
    {
      "cell_type": "code",
      "source": [
        "df_expl.shape\n"
      ],
      "metadata": {
        "colab": {
          "base_uri": "https://localhost:8080/"
        },
        "id": "5jxzGbKH14Sy",
        "outputId": "cd913e7d-80dd-4525-870a-436a36ea1dbc"
      },
      "execution_count": null,
      "outputs": [
        {
          "output_type": "execute_result",
          "data": {
            "text/plain": [
              "(17733, 15)"
            ]
          },
          "metadata": {},
          "execution_count": 20
        }
      ]
    },
    {
      "cell_type": "code",
      "source": [
        "# accuracy for samples with annotated explanations\n",
        "df_expl[\"pred_class\"] = df_expl[\"pred\"].map(lambda x: 3 if x>0.5 else 2)\n",
        "\n",
        "acc = sum(df_expl[\"class\"] == df_expl[\"pred_class\"]) * 100 / df_expl.shape[0]\n",
        "acc"
      ],
      "metadata": {
        "colab": {
          "base_uri": "https://localhost:8080/"
        },
        "id": "Uvh4u36bprFS",
        "outputId": "6e5fed48-c822-4c40-9f18-fa68a732414c"
      },
      "execution_count": null,
      "outputs": [
        {
          "output_type": "execute_result",
          "data": {
            "text/plain": [
              "99.71803981277843"
            ]
          },
          "metadata": {},
          "execution_count": 21
        }
      ]
    },
    {
      "cell_type": "code",
      "source": [
        "# consider only correct predictions\n",
        "df_expl = df_expl.loc[df_expl[\"pred_class\"] == df_expl[\"class\"]]\n",
        "df_expl.shape"
      ],
      "metadata": {
        "colab": {
          "base_uri": "https://localhost:8080/"
        },
        "id": "wpeX3pyHwv4d",
        "outputId": "908d483f-ca9d-4bd3-85d1-f78b6a81a28f"
      },
      "execution_count": null,
      "outputs": [
        {
          "output_type": "execute_result",
          "data": {
            "text/plain": [
              "(17683, 16)"
            ]
          },
          "metadata": {},
          "execution_count": 22
        }
      ]
    },
    {
      "cell_type": "code",
      "source": [
        "def extract_explanation(r, w=EXPL_WIN, col=\"max_max_index\"):\n",
        "  start_idx  = min(r[col], len(r[\"lines of code\"]) - 1)\n",
        "  start_idx  = max(start_idx - 2, 0)\n",
        "  end_idx = min(start_idx + w, len(r[\"lines of code\"]))\n",
        "  return r[\"lines of code\"][start_idx:end_idx]\n",
        "\n",
        "\n",
        "df_expl[\"extracted explanation max\"] = df_expl.apply(extract_explanation, col=\"max_max_index\", axis=1)\n",
        "df_expl[\"extracted explanation avg\"] = df_expl.apply(extract_explanation, col=\"max_avg_index\", axis=1)\n",
        "df_expl.loc[df_expl[\"extracted explanation max\"]==\"\"]\n",
        "\n",
        "df_expl\n",
        "\n"
      ],
      "metadata": {
        "colab": {
          "base_uri": "https://localhost:8080/",
          "height": 600
        },
        "id": "68zI-8TpX2Oq",
        "outputId": "539788a8-81c3-482d-b7cf-372882092c0f"
      },
      "execution_count": null,
      "outputs": [
        {
          "output_type": "execute_result",
          "data": {
            "text/plain": [
              "                                           lines of code  class  \\\n",
              "127     from __future__ import absolute_import, division      3   \n",
              "229    setattr(pyparsing_unicode.Japanese, u\"カタカナ\", p...      3   \n",
              "1663   setattr(pyparsing_unicode, u\"日本語\", pyparsing_u...      3   \n",
              "1928                     from __future__ import division      3   \n",
              "2005                         console.print(f\" -  {sdn}\")      3   \n",
              "...                                                  ...    ...   \n",
              "81636                          for i in range(len(lst)):      3   \n",
              "81644  print (\"\\nHello, \" + name+ \"\\nTime to play han...      3   \n",
              "81661  print(\"You will be \", desired_age , \"in the ye...      3   \n",
              "81662     print(\"    - \" + id.split(\"/\")[-1], dark=True)      3   \n",
              "81683                              print(\"Enter data: \")      3   \n",
              "\n",
              "                 print(   __future__ xrange   range        u\" print  unicode(  \\\n",
              "127                 NaN  __future__     NaN     NaN       NaN    NaN      NaN   \n",
              "229                 NaN          NaN    NaN     NaN  u\"カタカナ\",    NaN      NaN   \n",
              "1663                NaN          NaN    NaN     NaN   u\"日本語\",    NaN      NaN   \n",
              "1928                NaN  __future__     NaN     NaN       NaN    NaN      NaN   \n",
              "2005           print(f\"          NaN    NaN     NaN       NaN    NaN      NaN   \n",
              "...                 ...          ...    ...     ...       ...    ...      ...   \n",
              "81636               NaN          NaN    NaN  range(       NaN    NaN      NaN   \n",
              "81644  print (\"\\nHello,          NaN    NaN     NaN       NaN    NaN      NaN   \n",
              "81661        print(\"You          NaN    NaN     NaN       NaN    NaN      NaN   \n",
              "81662           print(\"          NaN    NaN     NaN       NaN    NaN      NaN   \n",
              "81683      print(\"Enter          NaN    NaN     NaN       NaN    NaN      NaN   \n",
              "\n",
              "      __next__( raw_input(       explanation      pred  max_max_index  \\\n",
              "127         NaN        NaN       __future__   0.991876             33   \n",
              "229         NaN        NaN          u\"カタカナ\",  0.757865             36   \n",
              "1663        NaN        NaN           u\"日本語\",  0.999972             27   \n",
              "1928        NaN        NaN       __future__   0.987167             23   \n",
              "2005        NaN        NaN          print(f\"  0.999410             12   \n",
              "...         ...        ...               ...       ...            ...   \n",
              "81636       NaN        NaN            range(  0.999903             11   \n",
              "81644       NaN        NaN  print (\"\\nHello,  1.000000              3   \n",
              "81661       NaN        NaN        print(\"You  1.000000              0   \n",
              "81662       NaN        NaN           print(\"  1.000000             26   \n",
              "81683       NaN        NaN      print(\"Enter  1.000000              8   \n",
              "\n",
              "       max_avg_index  pred_class extracted explanation max  \\\n",
              "127               33           3                _import, d   \n",
              "229               36           3                , u\"カタカナ\",   \n",
              "1663              27           3                , u\"日本語\",    \n",
              "1928              23           3                t division   \n",
              "2005              12           3                int(f\" -     \n",
              "...              ...         ...                       ...   \n",
              "81636             11           3                range(len(   \n",
              "81644              3           3                rint (\"\\nH   \n",
              "81661              0           3                print(\"You   \n",
              "81662             26           3                t(\"/\")[-1]   \n",
              "81683              8           3                \"Enter dat   \n",
              "\n",
              "      extracted explanation avg  \n",
              "127                  _import, d  \n",
              "229                  , u\"カタカナ\",  \n",
              "1663                 , u\"日本語\",   \n",
              "1928                 t division  \n",
              "2005                 int(f\" -    \n",
              "...                         ...  \n",
              "81636                range(len(  \n",
              "81644                rint (\"\\nH  \n",
              "81661                print(\"You  \n",
              "81662                t(\"/\")[-1]  \n",
              "81683                \"Enter dat  \n",
              "\n",
              "[17683 rows x 18 columns]"
            ],
            "text/html": [
              "\n",
              "  <div id=\"df-c735ac89-3d29-46c5-96bb-38fb1a55acc0\" class=\"colab-df-container\">\n",
              "    <div>\n",
              "<style scoped>\n",
              "    .dataframe tbody tr th:only-of-type {\n",
              "        vertical-align: middle;\n",
              "    }\n",
              "\n",
              "    .dataframe tbody tr th {\n",
              "        vertical-align: top;\n",
              "    }\n",
              "\n",
              "    .dataframe thead th {\n",
              "        text-align: right;\n",
              "    }\n",
              "</style>\n",
              "<table border=\"1\" class=\"dataframe\">\n",
              "  <thead>\n",
              "    <tr style=\"text-align: right;\">\n",
              "      <th></th>\n",
              "      <th>lines of code</th>\n",
              "      <th>class</th>\n",
              "      <th>print(</th>\n",
              "      <th>__future__</th>\n",
              "      <th>xrange</th>\n",
              "      <th>range</th>\n",
              "      <th>u\"</th>\n",
              "      <th>print</th>\n",
              "      <th>unicode(</th>\n",
              "      <th>__next__(</th>\n",
              "      <th>raw_input(</th>\n",
              "      <th>explanation</th>\n",
              "      <th>pred</th>\n",
              "      <th>max_max_index</th>\n",
              "      <th>max_avg_index</th>\n",
              "      <th>pred_class</th>\n",
              "      <th>extracted explanation max</th>\n",
              "      <th>extracted explanation avg</th>\n",
              "    </tr>\n",
              "  </thead>\n",
              "  <tbody>\n",
              "    <tr>\n",
              "      <th>127</th>\n",
              "      <td>from __future__ import absolute_import, division</td>\n",
              "      <td>3</td>\n",
              "      <td>NaN</td>\n",
              "      <td>__future__</td>\n",
              "      <td>NaN</td>\n",
              "      <td>NaN</td>\n",
              "      <td>NaN</td>\n",
              "      <td>NaN</td>\n",
              "      <td>NaN</td>\n",
              "      <td>NaN</td>\n",
              "      <td>NaN</td>\n",
              "      <td>__future__</td>\n",
              "      <td>0.991876</td>\n",
              "      <td>33</td>\n",
              "      <td>33</td>\n",
              "      <td>3</td>\n",
              "      <td>_import, d</td>\n",
              "      <td>_import, d</td>\n",
              "    </tr>\n",
              "    <tr>\n",
              "      <th>229</th>\n",
              "      <td>setattr(pyparsing_unicode.Japanese, u\"カタカナ\", p...</td>\n",
              "      <td>3</td>\n",
              "      <td>NaN</td>\n",
              "      <td>NaN</td>\n",
              "      <td>NaN</td>\n",
              "      <td>NaN</td>\n",
              "      <td>u\"カタカナ\",</td>\n",
              "      <td>NaN</td>\n",
              "      <td>NaN</td>\n",
              "      <td>NaN</td>\n",
              "      <td>NaN</td>\n",
              "      <td>u\"カタカナ\",</td>\n",
              "      <td>0.757865</td>\n",
              "      <td>36</td>\n",
              "      <td>36</td>\n",
              "      <td>3</td>\n",
              "      <td>, u\"カタカナ\",</td>\n",
              "      <td>, u\"カタカナ\",</td>\n",
              "    </tr>\n",
              "    <tr>\n",
              "      <th>1663</th>\n",
              "      <td>setattr(pyparsing_unicode, u\"日本語\", pyparsing_u...</td>\n",
              "      <td>3</td>\n",
              "      <td>NaN</td>\n",
              "      <td>NaN</td>\n",
              "      <td>NaN</td>\n",
              "      <td>NaN</td>\n",
              "      <td>u\"日本語\",</td>\n",
              "      <td>NaN</td>\n",
              "      <td>NaN</td>\n",
              "      <td>NaN</td>\n",
              "      <td>NaN</td>\n",
              "      <td>u\"日本語\",</td>\n",
              "      <td>0.999972</td>\n",
              "      <td>27</td>\n",
              "      <td>27</td>\n",
              "      <td>3</td>\n",
              "      <td>, u\"日本語\",</td>\n",
              "      <td>, u\"日本語\",</td>\n",
              "    </tr>\n",
              "    <tr>\n",
              "      <th>1928</th>\n",
              "      <td>from __future__ import division</td>\n",
              "      <td>3</td>\n",
              "      <td>NaN</td>\n",
              "      <td>__future__</td>\n",
              "      <td>NaN</td>\n",
              "      <td>NaN</td>\n",
              "      <td>NaN</td>\n",
              "      <td>NaN</td>\n",
              "      <td>NaN</td>\n",
              "      <td>NaN</td>\n",
              "      <td>NaN</td>\n",
              "      <td>__future__</td>\n",
              "      <td>0.987167</td>\n",
              "      <td>23</td>\n",
              "      <td>23</td>\n",
              "      <td>3</td>\n",
              "      <td>t division</td>\n",
              "      <td>t division</td>\n",
              "    </tr>\n",
              "    <tr>\n",
              "      <th>2005</th>\n",
              "      <td>console.print(f\" -  {sdn}\")</td>\n",
              "      <td>3</td>\n",
              "      <td>print(f\"</td>\n",
              "      <td>NaN</td>\n",
              "      <td>NaN</td>\n",
              "      <td>NaN</td>\n",
              "      <td>NaN</td>\n",
              "      <td>NaN</td>\n",
              "      <td>NaN</td>\n",
              "      <td>NaN</td>\n",
              "      <td>NaN</td>\n",
              "      <td>print(f\"</td>\n",
              "      <td>0.999410</td>\n",
              "      <td>12</td>\n",
              "      <td>12</td>\n",
              "      <td>3</td>\n",
              "      <td>int(f\" -</td>\n",
              "      <td>int(f\" -</td>\n",
              "    </tr>\n",
              "    <tr>\n",
              "      <th>...</th>\n",
              "      <td>...</td>\n",
              "      <td>...</td>\n",
              "      <td>...</td>\n",
              "      <td>...</td>\n",
              "      <td>...</td>\n",
              "      <td>...</td>\n",
              "      <td>...</td>\n",
              "      <td>...</td>\n",
              "      <td>...</td>\n",
              "      <td>...</td>\n",
              "      <td>...</td>\n",
              "      <td>...</td>\n",
              "      <td>...</td>\n",
              "      <td>...</td>\n",
              "      <td>...</td>\n",
              "      <td>...</td>\n",
              "      <td>...</td>\n",
              "      <td>...</td>\n",
              "    </tr>\n",
              "    <tr>\n",
              "      <th>81636</th>\n",
              "      <td>for i in range(len(lst)):</td>\n",
              "      <td>3</td>\n",
              "      <td>NaN</td>\n",
              "      <td>NaN</td>\n",
              "      <td>NaN</td>\n",
              "      <td>range(</td>\n",
              "      <td>NaN</td>\n",
              "      <td>NaN</td>\n",
              "      <td>NaN</td>\n",
              "      <td>NaN</td>\n",
              "      <td>NaN</td>\n",
              "      <td>range(</td>\n",
              "      <td>0.999903</td>\n",
              "      <td>11</td>\n",
              "      <td>11</td>\n",
              "      <td>3</td>\n",
              "      <td>range(len(</td>\n",
              "      <td>range(len(</td>\n",
              "    </tr>\n",
              "    <tr>\n",
              "      <th>81644</th>\n",
              "      <td>print (\"\\nHello, \" + name+ \"\\nTime to play han...</td>\n",
              "      <td>3</td>\n",
              "      <td>print (\"\\nHello,</td>\n",
              "      <td>NaN</td>\n",
              "      <td>NaN</td>\n",
              "      <td>NaN</td>\n",
              "      <td>NaN</td>\n",
              "      <td>NaN</td>\n",
              "      <td>NaN</td>\n",
              "      <td>NaN</td>\n",
              "      <td>NaN</td>\n",
              "      <td>print (\"\\nHello,</td>\n",
              "      <td>1.000000</td>\n",
              "      <td>3</td>\n",
              "      <td>3</td>\n",
              "      <td>3</td>\n",
              "      <td>rint (\"\\nH</td>\n",
              "      <td>rint (\"\\nH</td>\n",
              "    </tr>\n",
              "    <tr>\n",
              "      <th>81661</th>\n",
              "      <td>print(\"You will be \", desired_age , \"in the ye...</td>\n",
              "      <td>3</td>\n",
              "      <td>print(\"You</td>\n",
              "      <td>NaN</td>\n",
              "      <td>NaN</td>\n",
              "      <td>NaN</td>\n",
              "      <td>NaN</td>\n",
              "      <td>NaN</td>\n",
              "      <td>NaN</td>\n",
              "      <td>NaN</td>\n",
              "      <td>NaN</td>\n",
              "      <td>print(\"You</td>\n",
              "      <td>1.000000</td>\n",
              "      <td>0</td>\n",
              "      <td>0</td>\n",
              "      <td>3</td>\n",
              "      <td>print(\"You</td>\n",
              "      <td>print(\"You</td>\n",
              "    </tr>\n",
              "    <tr>\n",
              "      <th>81662</th>\n",
              "      <td>print(\"    - \" + id.split(\"/\")[-1], dark=True)</td>\n",
              "      <td>3</td>\n",
              "      <td>print(\"</td>\n",
              "      <td>NaN</td>\n",
              "      <td>NaN</td>\n",
              "      <td>NaN</td>\n",
              "      <td>NaN</td>\n",
              "      <td>NaN</td>\n",
              "      <td>NaN</td>\n",
              "      <td>NaN</td>\n",
              "      <td>NaN</td>\n",
              "      <td>print(\"</td>\n",
              "      <td>1.000000</td>\n",
              "      <td>26</td>\n",
              "      <td>26</td>\n",
              "      <td>3</td>\n",
              "      <td>t(\"/\")[-1]</td>\n",
              "      <td>t(\"/\")[-1]</td>\n",
              "    </tr>\n",
              "    <tr>\n",
              "      <th>81683</th>\n",
              "      <td>print(\"Enter data: \")</td>\n",
              "      <td>3</td>\n",
              "      <td>print(\"Enter</td>\n",
              "      <td>NaN</td>\n",
              "      <td>NaN</td>\n",
              "      <td>NaN</td>\n",
              "      <td>NaN</td>\n",
              "      <td>NaN</td>\n",
              "      <td>NaN</td>\n",
              "      <td>NaN</td>\n",
              "      <td>NaN</td>\n",
              "      <td>print(\"Enter</td>\n",
              "      <td>1.000000</td>\n",
              "      <td>8</td>\n",
              "      <td>8</td>\n",
              "      <td>3</td>\n",
              "      <td>\"Enter dat</td>\n",
              "      <td>\"Enter dat</td>\n",
              "    </tr>\n",
              "  </tbody>\n",
              "</table>\n",
              "<p>17683 rows × 18 columns</p>\n",
              "</div>\n",
              "    <div class=\"colab-df-buttons\">\n",
              "\n",
              "  <div class=\"colab-df-container\">\n",
              "    <button class=\"colab-df-convert\" onclick=\"convertToInteractive('df-c735ac89-3d29-46c5-96bb-38fb1a55acc0')\"\n",
              "            title=\"Convert this dataframe to an interactive table.\"\n",
              "            style=\"display:none;\">\n",
              "\n",
              "  <svg xmlns=\"http://www.w3.org/2000/svg\" height=\"24px\" viewBox=\"0 -960 960 960\">\n",
              "    <path d=\"M120-120v-720h720v720H120Zm60-500h600v-160H180v160Zm220 220h160v-160H400v160Zm0 220h160v-160H400v160ZM180-400h160v-160H180v160Zm440 0h160v-160H620v160ZM180-180h160v-160H180v160Zm440 0h160v-160H620v160Z\"/>\n",
              "  </svg>\n",
              "    </button>\n",
              "\n",
              "  <style>\n",
              "    .colab-df-container {\n",
              "      display:flex;\n",
              "      gap: 12px;\n",
              "    }\n",
              "\n",
              "    .colab-df-convert {\n",
              "      background-color: #E8F0FE;\n",
              "      border: none;\n",
              "      border-radius: 50%;\n",
              "      cursor: pointer;\n",
              "      display: none;\n",
              "      fill: #1967D2;\n",
              "      height: 32px;\n",
              "      padding: 0 0 0 0;\n",
              "      width: 32px;\n",
              "    }\n",
              "\n",
              "    .colab-df-convert:hover {\n",
              "      background-color: #E2EBFA;\n",
              "      box-shadow: 0px 1px 2px rgba(60, 64, 67, 0.3), 0px 1px 3px 1px rgba(60, 64, 67, 0.15);\n",
              "      fill: #174EA6;\n",
              "    }\n",
              "\n",
              "    .colab-df-buttons div {\n",
              "      margin-bottom: 4px;\n",
              "    }\n",
              "\n",
              "    [theme=dark] .colab-df-convert {\n",
              "      background-color: #3B4455;\n",
              "      fill: #D2E3FC;\n",
              "    }\n",
              "\n",
              "    [theme=dark] .colab-df-convert:hover {\n",
              "      background-color: #434B5C;\n",
              "      box-shadow: 0px 1px 3px 1px rgba(0, 0, 0, 0.15);\n",
              "      filter: drop-shadow(0px 1px 2px rgba(0, 0, 0, 0.3));\n",
              "      fill: #FFFFFF;\n",
              "    }\n",
              "  </style>\n",
              "\n",
              "    <script>\n",
              "      const buttonEl =\n",
              "        document.querySelector('#df-c735ac89-3d29-46c5-96bb-38fb1a55acc0 button.colab-df-convert');\n",
              "      buttonEl.style.display =\n",
              "        google.colab.kernel.accessAllowed ? 'block' : 'none';\n",
              "\n",
              "      async function convertToInteractive(key) {\n",
              "        const element = document.querySelector('#df-c735ac89-3d29-46c5-96bb-38fb1a55acc0');\n",
              "        const dataTable =\n",
              "          await google.colab.kernel.invokeFunction('convertToInteractive',\n",
              "                                                    [key], {});\n",
              "        if (!dataTable) return;\n",
              "\n",
              "        const docLinkHtml = 'Like what you see? Visit the ' +\n",
              "          '<a target=\"_blank\" href=https://colab.research.google.com/notebooks/data_table.ipynb>data table notebook</a>'\n",
              "          + ' to learn more about interactive tables.';\n",
              "        element.innerHTML = '';\n",
              "        dataTable['output_type'] = 'display_data';\n",
              "        await google.colab.output.renderOutput(dataTable, element);\n",
              "        const docLink = document.createElement('div');\n",
              "        docLink.innerHTML = docLinkHtml;\n",
              "        element.appendChild(docLink);\n",
              "      }\n",
              "    </script>\n",
              "  </div>\n",
              "\n",
              "\n",
              "<div id=\"df-2714dbca-984f-47f0-b6bf-ef71b0fa7cf8\">\n",
              "  <button class=\"colab-df-quickchart\" onclick=\"quickchart('df-2714dbca-984f-47f0-b6bf-ef71b0fa7cf8')\"\n",
              "            title=\"Suggest charts\"\n",
              "            style=\"display:none;\">\n",
              "\n",
              "<svg xmlns=\"http://www.w3.org/2000/svg\" height=\"24px\"viewBox=\"0 0 24 24\"\n",
              "     width=\"24px\">\n",
              "    <g>\n",
              "        <path d=\"M19 3H5c-1.1 0-2 .9-2 2v14c0 1.1.9 2 2 2h14c1.1 0 2-.9 2-2V5c0-1.1-.9-2-2-2zM9 17H7v-7h2v7zm4 0h-2V7h2v10zm4 0h-2v-4h2v4z\"/>\n",
              "    </g>\n",
              "</svg>\n",
              "  </button>\n",
              "\n",
              "<style>\n",
              "  .colab-df-quickchart {\n",
              "      --bg-color: #E8F0FE;\n",
              "      --fill-color: #1967D2;\n",
              "      --hover-bg-color: #E2EBFA;\n",
              "      --hover-fill-color: #174EA6;\n",
              "      --disabled-fill-color: #AAA;\n",
              "      --disabled-bg-color: #DDD;\n",
              "  }\n",
              "\n",
              "  [theme=dark] .colab-df-quickchart {\n",
              "      --bg-color: #3B4455;\n",
              "      --fill-color: #D2E3FC;\n",
              "      --hover-bg-color: #434B5C;\n",
              "      --hover-fill-color: #FFFFFF;\n",
              "      --disabled-bg-color: #3B4455;\n",
              "      --disabled-fill-color: #666;\n",
              "  }\n",
              "\n",
              "  .colab-df-quickchart {\n",
              "    background-color: var(--bg-color);\n",
              "    border: none;\n",
              "    border-radius: 50%;\n",
              "    cursor: pointer;\n",
              "    display: none;\n",
              "    fill: var(--fill-color);\n",
              "    height: 32px;\n",
              "    padding: 0;\n",
              "    width: 32px;\n",
              "  }\n",
              "\n",
              "  .colab-df-quickchart:hover {\n",
              "    background-color: var(--hover-bg-color);\n",
              "    box-shadow: 0 1px 2px rgba(60, 64, 67, 0.3), 0 1px 3px 1px rgba(60, 64, 67, 0.15);\n",
              "    fill: var(--button-hover-fill-color);\n",
              "  }\n",
              "\n",
              "  .colab-df-quickchart-complete:disabled,\n",
              "  .colab-df-quickchart-complete:disabled:hover {\n",
              "    background-color: var(--disabled-bg-color);\n",
              "    fill: var(--disabled-fill-color);\n",
              "    box-shadow: none;\n",
              "  }\n",
              "\n",
              "  .colab-df-spinner {\n",
              "    border: 2px solid var(--fill-color);\n",
              "    border-color: transparent;\n",
              "    border-bottom-color: var(--fill-color);\n",
              "    animation:\n",
              "      spin 1s steps(1) infinite;\n",
              "  }\n",
              "\n",
              "  @keyframes spin {\n",
              "    0% {\n",
              "      border-color: transparent;\n",
              "      border-bottom-color: var(--fill-color);\n",
              "      border-left-color: var(--fill-color);\n",
              "    }\n",
              "    20% {\n",
              "      border-color: transparent;\n",
              "      border-left-color: var(--fill-color);\n",
              "      border-top-color: var(--fill-color);\n",
              "    }\n",
              "    30% {\n",
              "      border-color: transparent;\n",
              "      border-left-color: var(--fill-color);\n",
              "      border-top-color: var(--fill-color);\n",
              "      border-right-color: var(--fill-color);\n",
              "    }\n",
              "    40% {\n",
              "      border-color: transparent;\n",
              "      border-right-color: var(--fill-color);\n",
              "      border-top-color: var(--fill-color);\n",
              "    }\n",
              "    60% {\n",
              "      border-color: transparent;\n",
              "      border-right-color: var(--fill-color);\n",
              "    }\n",
              "    80% {\n",
              "      border-color: transparent;\n",
              "      border-right-color: var(--fill-color);\n",
              "      border-bottom-color: var(--fill-color);\n",
              "    }\n",
              "    90% {\n",
              "      border-color: transparent;\n",
              "      border-bottom-color: var(--fill-color);\n",
              "    }\n",
              "  }\n",
              "</style>\n",
              "\n",
              "  <script>\n",
              "    async function quickchart(key) {\n",
              "      const quickchartButtonEl =\n",
              "        document.querySelector('#' + key + ' button');\n",
              "      quickchartButtonEl.disabled = true;  // To prevent multiple clicks.\n",
              "      quickchartButtonEl.classList.add('colab-df-spinner');\n",
              "      try {\n",
              "        const charts = await google.colab.kernel.invokeFunction(\n",
              "            'suggestCharts', [key], {});\n",
              "      } catch (error) {\n",
              "        console.error('Error during call to suggestCharts:', error);\n",
              "      }\n",
              "      quickchartButtonEl.classList.remove('colab-df-spinner');\n",
              "      quickchartButtonEl.classList.add('colab-df-quickchart-complete');\n",
              "    }\n",
              "    (() => {\n",
              "      let quickchartButtonEl =\n",
              "        document.querySelector('#df-2714dbca-984f-47f0-b6bf-ef71b0fa7cf8 button');\n",
              "      quickchartButtonEl.style.display =\n",
              "        google.colab.kernel.accessAllowed ? 'block' : 'none';\n",
              "    })();\n",
              "  </script>\n",
              "</div>\n",
              "\n",
              "  <div id=\"id_1d61bc84-1dab-406e-b655-dff639b8c1dd\">\n",
              "    <style>\n",
              "      .colab-df-generate {\n",
              "        background-color: #E8F0FE;\n",
              "        border: none;\n",
              "        border-radius: 50%;\n",
              "        cursor: pointer;\n",
              "        display: none;\n",
              "        fill: #1967D2;\n",
              "        height: 32px;\n",
              "        padding: 0 0 0 0;\n",
              "        width: 32px;\n",
              "      }\n",
              "\n",
              "      .colab-df-generate:hover {\n",
              "        background-color: #E2EBFA;\n",
              "        box-shadow: 0px 1px 2px rgba(60, 64, 67, 0.3), 0px 1px 3px 1px rgba(60, 64, 67, 0.15);\n",
              "        fill: #174EA6;\n",
              "      }\n",
              "\n",
              "      [theme=dark] .colab-df-generate {\n",
              "        background-color: #3B4455;\n",
              "        fill: #D2E3FC;\n",
              "      }\n",
              "\n",
              "      [theme=dark] .colab-df-generate:hover {\n",
              "        background-color: #434B5C;\n",
              "        box-shadow: 0px 1px 3px 1px rgba(0, 0, 0, 0.15);\n",
              "        filter: drop-shadow(0px 1px 2px rgba(0, 0, 0, 0.3));\n",
              "        fill: #FFFFFF;\n",
              "      }\n",
              "    </style>\n",
              "    <button class=\"colab-df-generate\" onclick=\"generateWithVariable('df_expl')\"\n",
              "            title=\"Generate code using this dataframe.\"\n",
              "            style=\"display:none;\">\n",
              "\n",
              "  <svg xmlns=\"http://www.w3.org/2000/svg\" height=\"24px\"viewBox=\"0 0 24 24\"\n",
              "       width=\"24px\">\n",
              "    <path d=\"M7,19H8.4L18.45,9,17,7.55,7,17.6ZM5,21V16.75L18.45,3.32a2,2,0,0,1,2.83,0l1.4,1.43a1.91,1.91,0,0,1,.58,1.4,1.91,1.91,0,0,1-.58,1.4L9.25,21ZM18.45,9,17,7.55Zm-12,3A5.31,5.31,0,0,0,4.9,8.1,5.31,5.31,0,0,0,1,6.5,5.31,5.31,0,0,0,4.9,4.9,5.31,5.31,0,0,0,6.5,1,5.31,5.31,0,0,0,8.1,4.9,5.31,5.31,0,0,0,12,6.5,5.46,5.46,0,0,0,6.5,12Z\"/>\n",
              "  </svg>\n",
              "    </button>\n",
              "    <script>\n",
              "      (() => {\n",
              "      const buttonEl =\n",
              "        document.querySelector('#id_1d61bc84-1dab-406e-b655-dff639b8c1dd button.colab-df-generate');\n",
              "      buttonEl.style.display =\n",
              "        google.colab.kernel.accessAllowed ? 'block' : 'none';\n",
              "\n",
              "      buttonEl.onclick = () => {\n",
              "        google.colab.notebook.generateWithVariable('df_expl');\n",
              "      }\n",
              "      })();\n",
              "    </script>\n",
              "  </div>\n",
              "\n",
              "    </div>\n",
              "  </div>\n"
            ],
            "application/vnd.google.colaboratory.intrinsic+json": {
              "type": "dataframe",
              "variable_name": "df_expl",
              "summary": "{\n  \"name\": \"df_expl\",\n  \"rows\": 17683,\n  \"fields\": [\n    {\n      \"column\": \"lines of code\",\n      \"properties\": {\n        \"dtype\": \"string\",\n        \"num_unique_values\": 17150,\n        \"samples\": [\n          \"elif fx in [u'u', u'underline']:\",\n          \"self.lexignore = self.lexstateignore.get(state, u'')\",\n          \"self.lsb_release_attr(u'description')).get(u'version_id', u''),\"\n        ],\n        \"semantic_type\": \"\",\n        \"description\": \"\"\n      }\n    },\n    {\n      \"column\": \"class\",\n      \"properties\": {\n        \"dtype\": \"number\",\n        \"std\": 0,\n        \"min\": 2,\n        \"max\": 3,\n        \"num_unique_values\": 2,\n        \"samples\": [\n          2,\n          3\n        ],\n        \"semantic_type\": \"\",\n        \"description\": \"\"\n      }\n    },\n    {\n      \"column\": \"print(\",\n      \"properties\": {\n        \"dtype\": \"category\",\n        \"num_unique_values\": 619,\n        \"samples\": [\n          \"print(\\\"You\",\n          \"print(','.join(value))\"\n        ],\n        \"semantic_type\": \"\",\n        \"description\": \"\"\n      }\n    },\n    {\n      \"column\": \"__future__\",\n      \"properties\": {\n        \"dtype\": \"category\",\n        \"num_unique_values\": 1,\n        \"samples\": [\n          \"__future__ \"\n        ],\n        \"semantic_type\": \"\",\n        \"description\": \"\"\n      }\n    },\n    {\n      \"column\": \"xrange\",\n      \"properties\": {\n        \"dtype\": \"category\",\n        \"num_unique_values\": 2,\n        \"samples\": [\n          \"xrange (\"\n        ],\n        \"semantic_type\": \"\",\n        \"description\": \"\"\n      }\n    },\n    {\n      \"column\": \" range\",\n      \"properties\": {\n        \"dtype\": \"category\",\n        \"num_unique_values\": 2,\n        \"samples\": [\n          \"range (\"\n        ],\n        \"semantic_type\": \"\",\n        \"description\": \"\"\n      }\n    },\n    {\n      \"column\": \"u\\\"\",\n      \"properties\": {\n        \"dtype\": \"string\",\n        \"num_unique_values\": 9614,\n        \"samples\": [\n          \"u'#33CC33',\"\n        ],\n        \"semantic_type\": \"\",\n        \"description\": \"\"\n      }\n    },\n    {\n      \"column\": \"print \",\n      \"properties\": {\n        \"dtype\": \"category\",\n        \"num_unique_values\": 733,\n        \"samples\": [\n          \"print d.get(u\\\"name\\\")\"\n        ],\n        \"semantic_type\": \"\",\n        \"description\": \"\"\n      }\n    },\n    {\n      \"column\": \"unicode(\",\n      \"properties\": {\n        \"dtype\": \"category\",\n        \"num_unique_values\": 1,\n        \"samples\": [\n          \"unicode(\"\n        ],\n        \"semantic_type\": \"\",\n        \"description\": \"\"\n      }\n    },\n    {\n      \"column\": \"__next__(\",\n      \"properties\": {\n        \"dtype\": \"category\",\n        \"num_unique_values\": 1,\n        \"samples\": [\n          \"__next__(\"\n        ],\n        \"semantic_type\": \"\",\n        \"description\": \"\"\n      }\n    },\n    {\n      \"column\": \"raw_input(\",\n      \"properties\": {\n        \"dtype\": \"category\",\n        \"num_unique_values\": 1,\n        \"samples\": [\n          \"raw_input(\"\n        ],\n        \"semantic_type\": \"\",\n        \"description\": \"\"\n      }\n    },\n    {\n      \"column\": \"explanation\",\n      \"properties\": {\n        \"dtype\": \"string\",\n        \"num_unique_values\": 10748,\n        \"samples\": [\n          \"u\\\"disable_pip_version_check\\\",\"\n        ],\n        \"semantic_type\": \"\",\n        \"description\": \"\"\n      }\n    },\n    {\n      \"column\": \"pred\",\n      \"properties\": {\n        \"dtype\": \"float32\",\n        \"num_unique_values\": 16207,\n        \"samples\": [\n          3.0012883844854343e-10\n        ],\n        \"semantic_type\": \"\",\n        \"description\": \"\"\n      }\n    },\n    {\n      \"column\": \"max_max_index\",\n      \"properties\": {\n        \"dtype\": \"number\",\n        \"std\": 14,\n        \"min\": 0,\n        \"max\": 99,\n        \"num_unique_values\": 98,\n        \"samples\": [\n          53\n        ],\n        \"semantic_type\": \"\",\n        \"description\": \"\"\n      }\n    },\n    {\n      \"column\": \"max_avg_index\",\n      \"properties\": {\n        \"dtype\": \"number\",\n        \"std\": 14,\n        \"min\": 0,\n        \"max\": 99,\n        \"num_unique_values\": 98,\n        \"samples\": [\n          71\n        ],\n        \"semantic_type\": \"\",\n        \"description\": \"\"\n      }\n    },\n    {\n      \"column\": \"pred_class\",\n      \"properties\": {\n        \"dtype\": \"number\",\n        \"std\": 0,\n        \"min\": 2,\n        \"max\": 3,\n        \"num_unique_values\": 2,\n        \"samples\": [\n          2\n        ],\n        \"semantic_type\": \"\",\n        \"description\": \"\"\n      }\n    },\n    {\n      \"column\": \"extracted explanation max\",\n      \"properties\": {\n        \"dtype\": \"string\",\n        \"num_unique_values\": 11816,\n        \"samples\": [\n          \"h(u'.py')]\"\n        ],\n        \"semantic_type\": \"\",\n        \"description\": \"\"\n      }\n    },\n    {\n      \"column\": \"extracted explanation avg\",\n      \"properties\": {\n        \"dtype\": \"string\",\n        \"num_unique_values\": 11876,\n        \"samples\": [\n          \"o(u'PLY: P\"\n        ],\n        \"semantic_type\": \"\",\n        \"description\": \"\"\n      }\n    }\n  ]\n}"
            }
          },
          "metadata": {},
          "execution_count": 23
        }
      ]
    },
    {
      "cell_type": "code",
      "source": [
        "# evaluating explanations based on RE\n",
        "# import re\n",
        "# patterns = {\n",
        "#         #py3/ print -- 0 or more space -- ( -- 0 or more space -- (1 or more no space)\n",
        "#         \"print(\": re.compile(r\"\\bprint\\s*\\(\\s*\\S+\"),\n",
        "#         #py2 (or early versions of py3)/ __future__ -- one or more space\n",
        "#         \"__future__\": re.compile(r\"\\b__future__\\s+\"),\n",
        "#         #py2/ xrange -- 0 or more space -- (\n",
        "#         \"xrange\": re.compile(r\"\\bxrange\\s*\\(\"),\n",
        "#         #py3/ space -- range -- 0 or more spaces -- (\n",
        "#         \" range\": re.compile(r\"\\brange\\s*\\(\"),\n",
        "#         #py2/ u (for unicode) -- ' or \" -- 0 or more spaces -- 1 or more no spaces\n",
        "#         'u\"': re.compile(r'\\bu[\\'|\\\"]\\s*\\S+'),\n",
        "#         #print -- 1 or more space -- at least one non-parenthesis -- one or more non space\n",
        "#         \"print \": re.compile(r\"\\bprint\\s+[^\\(]+\\S+\"),\n",
        "#         #py2/ boundary -- unicode -- (\n",
        "#         \"unicode(\": re.compile(r\"\\bunicode\\s*\\(\"),\n",
        "#         #py3/ space -- __next__ -- space -- (\n",
        "#         \"__next__(\": re.compile(r\"\\b__next__\\s*\\(\"),\n",
        "#         #py2/ raw_input\n",
        "#         \"raw_input(\": re.compile(r\"\\braw_input\\s*\\(\")\n",
        "#     }\n",
        "\n",
        "# count_patterns = { k:0 for k in patterns.keys()}\n",
        "\n",
        "# def eval_expl_2(r, col=\"extracted explanation max\"):\n",
        "#   for key, pattern in patterns.items():\n",
        "#     match = re.search(pattern, r[col])\n",
        "#     if match:\n",
        "#       count_patterns[key] += 1\n",
        "#       break\n",
        "\n",
        "# df_expl.apply(eval_expl_2, col=\"extracted explanation avg\", axis=1)\n",
        "\n",
        "# count_patterns\n"
      ],
      "metadata": {
        "id": "jrwY0Knrdvnn"
      },
      "execution_count": null,
      "outputs": []
    },
    {
      "cell_type": "code",
      "source": [
        "# accuracy\n",
        "# sum(count_patterns.values()) * 100 / df_expl.shape[0]"
      ],
      "metadata": {
        "id": "TMZlR_0hhYFy"
      },
      "execution_count": null,
      "outputs": []
    },
    {
      "cell_type": "code",
      "source": [
        "# evaluate explainability\n",
        "import re\n",
        "#longest common subsequence\n",
        "def lcs(X, Y):\n",
        "    # find the length of the strings\n",
        "    m = len(X)\n",
        "    n = len(Y)\n",
        "    # declaring the array for storing the dp values\n",
        "    L = [[None]*(n + 1) for i in range(m + 1)]\n",
        "    \"\"\"Following steps build L[m + 1][n + 1] in bottom up fashion\n",
        "    Note: L[i][j] contains length of LCS of X[0..i-1]\n",
        "    and Y[0..j-1]\"\"\"\n",
        "    for i in range(m+1):\n",
        "        for j in range(n+1):\n",
        "            if i == 0 or j == 0 :\n",
        "                L[i][j] = 0\n",
        "            elif X[i-1] == Y[j-1]:\n",
        "                L[i][j] = L[i-1][j-1]+1\n",
        "            else:\n",
        "                L[i][j] = 0\n",
        "    return max ( max(l) for l in L )\n",
        "\n",
        "\n",
        "def eval_expl(r, col=\"extracted explanation max\"):\n",
        "  # if prediction is wrong, explanation is wrong!\n",
        "  # not necessarity since it can be the label was incorrect\n",
        "  # if r[\"class\"] != r[\"pred_class\"]:\n",
        "  #   return False\n",
        "  if re.search(re.compile(r'\\bu[\\'|\\\"]\\s*\\S+'), r[col]):\n",
        "    # print (r[col])\n",
        "    return True\n",
        "  return lcs(r[\"explanation\"], r[col]) >= EXPL_EVAL_THR\n",
        "\n"
      ],
      "metadata": {
        "id": "wDdJq65wg6na"
      },
      "execution_count": null,
      "outputs": []
    },
    {
      "cell_type": "code",
      "source": [
        "df_expl[\"eval expl max\"] = df_expl.apply(eval_expl, col=\"extracted explanation max\", axis=1)\n",
        "exp_acc_max = sum(df_expl[\"eval expl max\"]) * 100 / df_expl.shape[0]\n",
        "\n",
        "df_expl[\"eval expl avg\"] = df_expl.apply(eval_expl, col=\"extracted explanation avg\", axis=1)\n",
        "exp_acc_avg = sum(df_expl[\"eval expl avg\"]) * 100 / df_expl.shape[0]\n",
        "\n",
        "\n",
        "print (f\"{exp_acc_max:.2f}, {exp_acc_avg:.2f}\")"
      ],
      "metadata": {
        "colab": {
          "base_uri": "https://localhost:8080/"
        },
        "id": "C-D5Y7Dzdike",
        "outputId": "a9ab9b1f-036d-4304-fc61-06e8a7069de3"
      },
      "execution_count": null,
      "outputs": [
        {
          "output_type": "stream",
          "name": "stdout",
          "text": [
            "98.16, 98.60\n"
          ]
        }
      ]
    },
    {
      "cell_type": "code",
      "source": [
        "print (m.name)"
      ],
      "metadata": {
        "colab": {
          "base_uri": "https://localhost:8080/"
        },
        "id": "N1dwL07qH2Zm",
        "outputId": "3a39fb29-8dc3-4339-caa9-2d825b7acd18"
      },
      "execution_count": null,
      "outputs": [
        {
          "output_type": "stream",
          "name": "stdout",
          "text": [
            "MM_dataset80k_Win7_NF64\n"
          ]
        }
      ]
    },
    {
      "cell_type": "code",
      "source": [
        "#breakdown of correct explanations\n",
        "# print ( df_expl.columns )\n",
        "# df_expl[\"print(\"]\n",
        "print (\" for avg aggregation: \")\n",
        "for col in ['print(', '__future__', 'xrange', ' range',\n",
        "       'u\"', 'print ', 'unicode(', '__next__(', 'raw_input(']:\n",
        "  den = df_expl [ df_expl[col].notnull()].shape[0]\n",
        "  num = df_expl [ df_expl[col].notnull()].loc [ df_expl[\"eval expl avg\"] == True ].shape[0]\n",
        "  print (col, den, num)"
      ],
      "metadata": {
        "colab": {
          "base_uri": "https://localhost:8080/"
        },
        "id": "H9C7jHE4iUAL",
        "outputId": "e583a61a-55a1-486e-b900-4868e28e5ea5"
      },
      "execution_count": null,
      "outputs": [
        {
          "output_type": "stream",
          "name": "stdout",
          "text": [
            " for avg aggregation: \n",
            "print( 958 849\n",
            "__future__ 6 3\n",
            "xrange 226 225\n",
            " range 234 183\n",
            "u\" 15922 15851\n",
            "print  816 816\n",
            "unicode( 266 256\n",
            "__next__( 3 2\n",
            "raw_input( 136 133\n"
          ]
        }
      ]
    },
    {
      "cell_type": "code",
      "source": [
        "print (\" for max aggregation: \")\n",
        "for col in ['print(', '__future__', 'xrange', ' range',\n",
        "       'u\"', 'print ', 'unicode(', '__next__(', 'raw_input(']:\n",
        "  den = df_expl [ df_expl[col].notnull()].shape[0]\n",
        "  num = df_expl [ df_expl[col].notnull()].loc [ df_expl[\"eval expl max\"] == True ].shape[0]\n",
        "  print (col, den, num)"
      ],
      "metadata": {
        "colab": {
          "base_uri": "https://localhost:8080/"
        },
        "id": "YNyUsHDDlORf",
        "outputId": "6c8b557f-b1e3-46cd-ccfe-a6c143e211d2"
      },
      "execution_count": null,
      "outputs": [
        {
          "output_type": "stream",
          "name": "stdout",
          "text": [
            " for max aggregation: \n",
            "print( 958 848\n",
            "__future__ 6 3\n",
            "xrange 226 224\n",
            " range 234 188\n",
            "u\" 15922 15769\n",
            "print  816 816\n",
            "unicode( 266 254\n",
            "__next__( 3 2\n",
            "raw_input( 136 132\n"
          ]
        }
      ]
    },
    {
      "cell_type": "code",
      "source": [
        "# What is the issue with a given pattern's explanations ?\n",
        "t_df = df_expl[df_expl['u\"'].notnull()].loc[df_expl[\"eval expl max\"] == False]\n",
        "t_df = t_df [[\"lines of code\",\"explanation\",\"extracted explanation max\"]]\n",
        "\n",
        "for i in range(len(t_df)):\n",
        "  print (t_df.iloc[i,0])\n",
        "  print (\"explanation: *\" + t_df.iloc[i,1] +  \"*\")\n",
        "  print (\"extracted: *\" +  t_df.iloc[i,2] + \"*\")\n",
        "  print(\"---\")\n",
        "\n",
        "\n"
      ],
      "metadata": {
        "id": "gfRnc-eLlZ72"
      },
      "execution_count": null,
      "outputs": []
    },
    {
      "cell_type": "markdown",
      "source": [
        "What is wrong with the explainer?"
      ],
      "metadata": {
        "id": "OK4H4FHvX4cZ"
      }
    },
    {
      "cell_type": "code",
      "source": [
        "nb_wrong_expl = df_expl[df_expl[\"eval expl avg\"]==False].shape[0]\n",
        "nb_wrong_expl_py2 = df_expl[df_expl[\"eval expl avg\"]==False][df_expl[\"class\"]==2].shape[0]\n",
        "nb_wrong_expl_py3 = df_expl[df_expl[\"eval expl avg\"]==False][df_expl[\"class\"]==3].shape[0]\n",
        "\n",
        "print ( nb_wrong_expl_py2, nb_wrong_expl_py3)\n",
        "\"py2:{:.2f}% py3:{:.2f}%\".format(nb_wrong_expl_py2*100/nb_wrong_expl,  nb_wrong_expl_py3*100/nb_wrong_expl)"
      ],
      "metadata": {
        "colab": {
          "base_uri": "https://localhost:8080/",
          "height": 122
        },
        "id": "ivnq9XwMryTT",
        "outputId": "035f63d1-e4b7-479e-89ab-4f4a09c30277"
      },
      "execution_count": null,
      "outputs": [
        {
          "output_type": "stream",
          "name": "stdout",
          "text": [
            "63 184\n"
          ]
        },
        {
          "output_type": "stream",
          "name": "stderr",
          "text": [
            "<ipython-input-31-0aa4f472e082>:2: UserWarning: Boolean Series key will be reindexed to match DataFrame index.\n",
            "  nb_wrong_expl_py2 = df_expl[df_expl[\"eval expl avg\"]==False][df_expl[\"class\"]==2].shape[0]\n",
            "<ipython-input-31-0aa4f472e082>:3: UserWarning: Boolean Series key will be reindexed to match DataFrame index.\n",
            "  nb_wrong_expl_py3 = df_expl[df_expl[\"eval expl avg\"]==False][df_expl[\"class\"]==3].shape[0]\n"
          ]
        },
        {
          "output_type": "execute_result",
          "data": {
            "text/plain": [
              "'py2:25.51% py3:74.49%'"
            ],
            "application/vnd.google.colaboratory.intrinsic+json": {
              "type": "string"
            }
          },
          "metadata": {},
          "execution_count": 31
        }
      ]
    },
    {
      "cell_type": "code",
      "source": [
        "nb_wrong_expl = df_expl[df_expl[\"eval expl max\"]==False].shape[0]\n",
        "nb_wrong_expl_py2 = df_expl[df_expl[\"eval expl max\"]==False][df_expl[\"class\"]==2].shape[0]\n",
        "nb_wrong_expl_py3 = df_expl[df_expl[\"eval expl max\"]==False][df_expl[\"class\"]==3].shape[0]\n",
        "print ( nb_wrong_expl_py2, nb_wrong_expl_py3, nb_wrong_expl)\n",
        "\"py2:{:.2f}% py3:{:.2f}%\".format(nb_wrong_expl_py2*100/nb_wrong_expl,  nb_wrong_expl_py3*100/nb_wrong_expl)"
      ],
      "metadata": {
        "colab": {
          "base_uri": "https://localhost:8080/",
          "height": 122
        },
        "id": "bweV1J2llqZn",
        "outputId": "978f2138-cb57-4311-cd35-ebb04e6d3175"
      },
      "execution_count": null,
      "outputs": [
        {
          "output_type": "stream",
          "name": "stdout",
          "text": [
            "130 196 326\n"
          ]
        },
        {
          "output_type": "stream",
          "name": "stderr",
          "text": [
            "<ipython-input-32-a272ff280592>:2: UserWarning: Boolean Series key will be reindexed to match DataFrame index.\n",
            "  nb_wrong_expl_py2 = df_expl[df_expl[\"eval expl max\"]==False][df_expl[\"class\"]==2].shape[0]\n",
            "<ipython-input-32-a272ff280592>:3: UserWarning: Boolean Series key will be reindexed to match DataFrame index.\n",
            "  nb_wrong_expl_py3 = df_expl[df_expl[\"eval expl max\"]==False][df_expl[\"class\"]==3].shape[0]\n"
          ]
        },
        {
          "output_type": "execute_result",
          "data": {
            "text/plain": [
              "'py2:39.88% py3:60.12%'"
            ],
            "application/vnd.google.colaboratory.intrinsic+json": {
              "type": "string"
            }
          },
          "metadata": {},
          "execution_count": 32
        }
      ]
    },
    {
      "cell_type": "code",
      "source": [
        "# analysis for avg\n",
        "t_df = df_expl[df_expl[\"eval expl avg\"]==False][df_expl[\"class\"]==2][[\"lines of code\",\"explanation\",\"extracted explanation avg\"]]\n",
        "for i in range(len(t_df)):\n",
        "  print (t_df.iloc[i,0])\n",
        "  print (t_df.iloc[i,1])\n",
        "  print (t_df.iloc[i,2])\n",
        "  print(\"---\")\n",
        "  # print(r)\n",
        "  # print(j)"
      ],
      "metadata": {
        "id": "I3fBjga8yTlZ"
      },
      "execution_count": null,
      "outputs": []
    },
    {
      "cell_type": "code",
      "source": [
        "#analysis for max\n",
        "t_df = df_expl[df_expl[\"eval expl max\"]==False][df_expl[\"class\"]==2][[\"lines of code\",\"explanation\",\"extracted explanation max\"]]\n",
        "for i in range(len(t_df)):\n",
        "  print (t_df.iloc[i,0])\n",
        "  print (t_df.iloc[i,1])\n",
        "  print (t_df.iloc[i,2])\n",
        "  print(\"---\")\n"
      ],
      "metadata": {
        "id": "FvKSLBQ6-Dqe"
      },
      "execution_count": null,
      "outputs": []
    },
    {
      "cell_type": "markdown",
      "source": [
        "Discover new patterns\n"
      ],
      "metadata": {
        "id": "Qk_G_25pyRVz"
      }
    },
    {
      "cell_type": "code",
      "source": [
        "# all samples having no annotated explanation\n",
        "samples = [ bytearray(line, encoding=\"utf-8\") for line in df[df[\"explanation\"].isnull()][\"lines of code\"] ]\n",
        "samples_padded = pad_sequences(samples, maxlen=MAX_LEN, padding='post', truncating='post')\n",
        "\n",
        "filters = intermediate_layer_model.predict(samples_padded)\n",
        "\n",
        "max_filter = np.max(filters, axis=2)\n",
        "avg_filter = np.average(filters, axis=2)\n",
        "\n",
        "print ( max_filter.shape )\n",
        "print ( avg_filter.shape )\n",
        "\n",
        "print ( max_filter.argmax(axis=1) )\n",
        "print ( avg_filter.argmax(axis=1) )"
      ],
      "metadata": {
        "id": "7np-tY8Iz7Hf",
        "colab": {
          "base_uri": "https://localhost:8080/"
        },
        "outputId": "867eef89-c671-4dbc-99fd-670133899116"
      },
      "execution_count": null,
      "outputs": [
        {
          "output_type": "stream",
          "name": "stdout",
          "text": [
            "1999/1999 [==============================] - 12s 6ms/step\n",
            "(63967, 100)\n",
            "(63967, 100)\n",
            "[ 4 25  7 ... 16 55 14]\n",
            "[ 4 25  7 ... 16 55 14]\n"
          ]
        }
      ]
    },
    {
      "cell_type": "code",
      "source": [
        "# filter for loc with no explanation\n",
        "t_df = df[df[\"explanation\"].isnull()]\n",
        "t_df = t_df.join( pd.Series(name=\"pred\", data = m.predict(samples_padded).reshape(-1), index=t_df.index) )\n",
        "t_df = t_df.join( pd.Series(name=\"max_max_index\", data= max_filter.argmax(axis=1), index=t_df.index) )\n",
        "t_df = t_df.join( pd.Series(name=\"max_avg_index\", data= avg_filter.argmax(axis=1), index=t_df.index) )\n",
        "t_df[\"pred_class\"] = t_df[\"pred\"].map(lambda x: 3 if x>0.5 else 2)"
      ],
      "metadata": {
        "id": "JXsonfpl3Dso",
        "colab": {
          "base_uri": "https://localhost:8080/"
        },
        "outputId": "a6f9a254-fe2e-46c1-bfde-ae20079a4352"
      },
      "execution_count": null,
      "outputs": [
        {
          "output_type": "stream",
          "name": "stdout",
          "text": [
            "1999/1999 [==============================] - 16s 8ms/step\n"
          ]
        }
      ]
    },
    {
      "cell_type": "code",
      "source": [
        "\n",
        "t_df[\"extracted explanation max\"] = t_df.apply(extract_explanation, col=\"max_max_index\", axis=1)\n",
        "t_df[\"extracted explanation avg\"] = t_df.apply(extract_explanation, col=\"max_avg_index\", axis=1)\n",
        "# t_df[t_df[\"extracted explanation max\"]==\"\"]\n",
        "\n",
        "t_df"
      ],
      "metadata": {
        "id": "sRrtfnfR2rTn",
        "colab": {
          "base_uri": "https://localhost:8080/",
          "height": 513
        },
        "outputId": "88e77848-fedd-4933-ff91-cc49238e007b"
      },
      "execution_count": null,
      "outputs": [
        {
          "output_type": "execute_result",
          "data": {
            "text/plain": [
              "                                           lines of code  class print(  \\\n",
              "0             extra_ok_returncodes=extra_ok_returncodes,      3    NaN   \n",
              "1               from .base import Candidate, Requirement      3    NaN   \n",
              "2                                         import zipfile      3    NaN   \n",
              "3            class DistutilsSetupError (DistutilsError):      3    NaN   \n",
              "4              original = original or getattr(_os, name)      3    NaN   \n",
              "...                                                  ...    ...    ...   \n",
              "81696  def infixNotation(baseExpr, opList, lpar=Suppr...      3    NaN   \n",
              "81697                              def __init__( self ):      3    NaN   \n",
              "81698  \"base installation directory for platform-spec...      3    NaN   \n",
              "81699  assert value in (1, -1), \"allowed polarity_lef...      3    NaN   \n",
              "81700                    scale2.config(state=\"disabled\")      3    NaN   \n",
              "\n",
              "      __future__ xrange  range   u\" print  unicode( __next__( raw_input(  \\\n",
              "0            NaN    NaN    NaN  NaN    NaN      NaN       NaN        NaN   \n",
              "1            NaN    NaN    NaN  NaN    NaN      NaN       NaN        NaN   \n",
              "2            NaN    NaN    NaN  NaN    NaN      NaN       NaN        NaN   \n",
              "3            NaN    NaN    NaN  NaN    NaN      NaN       NaN        NaN   \n",
              "4            NaN    NaN    NaN  NaN    NaN      NaN       NaN        NaN   \n",
              "...          ...    ...    ...  ...    ...      ...       ...        ...   \n",
              "81696        NaN    NaN    NaN  NaN    NaN      NaN       NaN        NaN   \n",
              "81697        NaN    NaN    NaN  NaN    NaN      NaN       NaN        NaN   \n",
              "81698        NaN    NaN    NaN  NaN    NaN      NaN       NaN        NaN   \n",
              "81699        NaN    NaN    NaN  NaN    NaN      NaN       NaN        NaN   \n",
              "81700        NaN    NaN    NaN  NaN    NaN      NaN       NaN        NaN   \n",
              "\n",
              "      explanation      pred  max_max_index  max_avg_index  pred_class  \\\n",
              "0             NaN  0.996032              4              4           3   \n",
              "1             NaN  1.000000             25             25           3   \n",
              "2             NaN  0.999787              7              7           3   \n",
              "3             NaN  0.995634             40             40           3   \n",
              "4             NaN  0.999847              0              0           3   \n",
              "...           ...       ...            ...            ...         ...   \n",
              "81696         NaN  1.000000             17             50           3   \n",
              "81697         NaN  0.999900             17             17           3   \n",
              "81698         NaN  1.000000             16             16           3   \n",
              "81699         NaN  0.999385             55             55           3   \n",
              "81700         NaN  0.999991             14             14           3   \n",
              "\n",
              "      extracted explanation max extracted explanation avg  \n",
              "0                    tra_ok_ret                tra_ok_ret  \n",
              "1                    date, Requ                date, Requ  \n",
              "2                     t zipfile                 t zipfile  \n",
              "3                         ror):                     ror):  \n",
              "4                    original =                original =  \n",
              "...                         ...                       ...  \n",
              "81696                on(baseExp                s('('), rp  \n",
              "81697                    elf ):                    elf ):  \n",
              "81698                tion direc                tion direc  \n",
              "81699                s are: -1                 s are: -1   \n",
              "81700                g(state=\"d                g(state=\"d  \n",
              "\n",
              "[63967 rows x 18 columns]"
            ],
            "text/html": [
              "\n",
              "  <div id=\"df-fdd9e6ea-e93a-436a-bf68-71239f2dfc08\" class=\"colab-df-container\">\n",
              "    <div>\n",
              "<style scoped>\n",
              "    .dataframe tbody tr th:only-of-type {\n",
              "        vertical-align: middle;\n",
              "    }\n",
              "\n",
              "    .dataframe tbody tr th {\n",
              "        vertical-align: top;\n",
              "    }\n",
              "\n",
              "    .dataframe thead th {\n",
              "        text-align: right;\n",
              "    }\n",
              "</style>\n",
              "<table border=\"1\" class=\"dataframe\">\n",
              "  <thead>\n",
              "    <tr style=\"text-align: right;\">\n",
              "      <th></th>\n",
              "      <th>lines of code</th>\n",
              "      <th>class</th>\n",
              "      <th>print(</th>\n",
              "      <th>__future__</th>\n",
              "      <th>xrange</th>\n",
              "      <th>range</th>\n",
              "      <th>u\"</th>\n",
              "      <th>print</th>\n",
              "      <th>unicode(</th>\n",
              "      <th>__next__(</th>\n",
              "      <th>raw_input(</th>\n",
              "      <th>explanation</th>\n",
              "      <th>pred</th>\n",
              "      <th>max_max_index</th>\n",
              "      <th>max_avg_index</th>\n",
              "      <th>pred_class</th>\n",
              "      <th>extracted explanation max</th>\n",
              "      <th>extracted explanation avg</th>\n",
              "    </tr>\n",
              "  </thead>\n",
              "  <tbody>\n",
              "    <tr>\n",
              "      <th>0</th>\n",
              "      <td>extra_ok_returncodes=extra_ok_returncodes,</td>\n",
              "      <td>3</td>\n",
              "      <td>NaN</td>\n",
              "      <td>NaN</td>\n",
              "      <td>NaN</td>\n",
              "      <td>NaN</td>\n",
              "      <td>NaN</td>\n",
              "      <td>NaN</td>\n",
              "      <td>NaN</td>\n",
              "      <td>NaN</td>\n",
              "      <td>NaN</td>\n",
              "      <td>NaN</td>\n",
              "      <td>0.996032</td>\n",
              "      <td>4</td>\n",
              "      <td>4</td>\n",
              "      <td>3</td>\n",
              "      <td>tra_ok_ret</td>\n",
              "      <td>tra_ok_ret</td>\n",
              "    </tr>\n",
              "    <tr>\n",
              "      <th>1</th>\n",
              "      <td>from .base import Candidate, Requirement</td>\n",
              "      <td>3</td>\n",
              "      <td>NaN</td>\n",
              "      <td>NaN</td>\n",
              "      <td>NaN</td>\n",
              "      <td>NaN</td>\n",
              "      <td>NaN</td>\n",
              "      <td>NaN</td>\n",
              "      <td>NaN</td>\n",
              "      <td>NaN</td>\n",
              "      <td>NaN</td>\n",
              "      <td>NaN</td>\n",
              "      <td>1.000000</td>\n",
              "      <td>25</td>\n",
              "      <td>25</td>\n",
              "      <td>3</td>\n",
              "      <td>date, Requ</td>\n",
              "      <td>date, Requ</td>\n",
              "    </tr>\n",
              "    <tr>\n",
              "      <th>2</th>\n",
              "      <td>import zipfile</td>\n",
              "      <td>3</td>\n",
              "      <td>NaN</td>\n",
              "      <td>NaN</td>\n",
              "      <td>NaN</td>\n",
              "      <td>NaN</td>\n",
              "      <td>NaN</td>\n",
              "      <td>NaN</td>\n",
              "      <td>NaN</td>\n",
              "      <td>NaN</td>\n",
              "      <td>NaN</td>\n",
              "      <td>NaN</td>\n",
              "      <td>0.999787</td>\n",
              "      <td>7</td>\n",
              "      <td>7</td>\n",
              "      <td>3</td>\n",
              "      <td>t zipfile</td>\n",
              "      <td>t zipfile</td>\n",
              "    </tr>\n",
              "    <tr>\n",
              "      <th>3</th>\n",
              "      <td>class DistutilsSetupError (DistutilsError):</td>\n",
              "      <td>3</td>\n",
              "      <td>NaN</td>\n",
              "      <td>NaN</td>\n",
              "      <td>NaN</td>\n",
              "      <td>NaN</td>\n",
              "      <td>NaN</td>\n",
              "      <td>NaN</td>\n",
              "      <td>NaN</td>\n",
              "      <td>NaN</td>\n",
              "      <td>NaN</td>\n",
              "      <td>NaN</td>\n",
              "      <td>0.995634</td>\n",
              "      <td>40</td>\n",
              "      <td>40</td>\n",
              "      <td>3</td>\n",
              "      <td>ror):</td>\n",
              "      <td>ror):</td>\n",
              "    </tr>\n",
              "    <tr>\n",
              "      <th>4</th>\n",
              "      <td>original = original or getattr(_os, name)</td>\n",
              "      <td>3</td>\n",
              "      <td>NaN</td>\n",
              "      <td>NaN</td>\n",
              "      <td>NaN</td>\n",
              "      <td>NaN</td>\n",
              "      <td>NaN</td>\n",
              "      <td>NaN</td>\n",
              "      <td>NaN</td>\n",
              "      <td>NaN</td>\n",
              "      <td>NaN</td>\n",
              "      <td>NaN</td>\n",
              "      <td>0.999847</td>\n",
              "      <td>0</td>\n",
              "      <td>0</td>\n",
              "      <td>3</td>\n",
              "      <td>original =</td>\n",
              "      <td>original =</td>\n",
              "    </tr>\n",
              "    <tr>\n",
              "      <th>...</th>\n",
              "      <td>...</td>\n",
              "      <td>...</td>\n",
              "      <td>...</td>\n",
              "      <td>...</td>\n",
              "      <td>...</td>\n",
              "      <td>...</td>\n",
              "      <td>...</td>\n",
              "      <td>...</td>\n",
              "      <td>...</td>\n",
              "      <td>...</td>\n",
              "      <td>...</td>\n",
              "      <td>...</td>\n",
              "      <td>...</td>\n",
              "      <td>...</td>\n",
              "      <td>...</td>\n",
              "      <td>...</td>\n",
              "      <td>...</td>\n",
              "      <td>...</td>\n",
              "    </tr>\n",
              "    <tr>\n",
              "      <th>81696</th>\n",
              "      <td>def infixNotation(baseExpr, opList, lpar=Suppr...</td>\n",
              "      <td>3</td>\n",
              "      <td>NaN</td>\n",
              "      <td>NaN</td>\n",
              "      <td>NaN</td>\n",
              "      <td>NaN</td>\n",
              "      <td>NaN</td>\n",
              "      <td>NaN</td>\n",
              "      <td>NaN</td>\n",
              "      <td>NaN</td>\n",
              "      <td>NaN</td>\n",
              "      <td>NaN</td>\n",
              "      <td>1.000000</td>\n",
              "      <td>17</td>\n",
              "      <td>50</td>\n",
              "      <td>3</td>\n",
              "      <td>on(baseExp</td>\n",
              "      <td>s('('), rp</td>\n",
              "    </tr>\n",
              "    <tr>\n",
              "      <th>81697</th>\n",
              "      <td>def __init__( self ):</td>\n",
              "      <td>3</td>\n",
              "      <td>NaN</td>\n",
              "      <td>NaN</td>\n",
              "      <td>NaN</td>\n",
              "      <td>NaN</td>\n",
              "      <td>NaN</td>\n",
              "      <td>NaN</td>\n",
              "      <td>NaN</td>\n",
              "      <td>NaN</td>\n",
              "      <td>NaN</td>\n",
              "      <td>NaN</td>\n",
              "      <td>0.999900</td>\n",
              "      <td>17</td>\n",
              "      <td>17</td>\n",
              "      <td>3</td>\n",
              "      <td>elf ):</td>\n",
              "      <td>elf ):</td>\n",
              "    </tr>\n",
              "    <tr>\n",
              "      <th>81698</th>\n",
              "      <td>\"base installation directory for platform-spec...</td>\n",
              "      <td>3</td>\n",
              "      <td>NaN</td>\n",
              "      <td>NaN</td>\n",
              "      <td>NaN</td>\n",
              "      <td>NaN</td>\n",
              "      <td>NaN</td>\n",
              "      <td>NaN</td>\n",
              "      <td>NaN</td>\n",
              "      <td>NaN</td>\n",
              "      <td>NaN</td>\n",
              "      <td>NaN</td>\n",
              "      <td>1.000000</td>\n",
              "      <td>16</td>\n",
              "      <td>16</td>\n",
              "      <td>3</td>\n",
              "      <td>tion direc</td>\n",
              "      <td>tion direc</td>\n",
              "    </tr>\n",
              "    <tr>\n",
              "      <th>81699</th>\n",
              "      <td>assert value in (1, -1), \"allowed polarity_lef...</td>\n",
              "      <td>3</td>\n",
              "      <td>NaN</td>\n",
              "      <td>NaN</td>\n",
              "      <td>NaN</td>\n",
              "      <td>NaN</td>\n",
              "      <td>NaN</td>\n",
              "      <td>NaN</td>\n",
              "      <td>NaN</td>\n",
              "      <td>NaN</td>\n",
              "      <td>NaN</td>\n",
              "      <td>NaN</td>\n",
              "      <td>0.999385</td>\n",
              "      <td>55</td>\n",
              "      <td>55</td>\n",
              "      <td>3</td>\n",
              "      <td>s are: -1</td>\n",
              "      <td>s are: -1</td>\n",
              "    </tr>\n",
              "    <tr>\n",
              "      <th>81700</th>\n",
              "      <td>scale2.config(state=\"disabled\")</td>\n",
              "      <td>3</td>\n",
              "      <td>NaN</td>\n",
              "      <td>NaN</td>\n",
              "      <td>NaN</td>\n",
              "      <td>NaN</td>\n",
              "      <td>NaN</td>\n",
              "      <td>NaN</td>\n",
              "      <td>NaN</td>\n",
              "      <td>NaN</td>\n",
              "      <td>NaN</td>\n",
              "      <td>NaN</td>\n",
              "      <td>0.999991</td>\n",
              "      <td>14</td>\n",
              "      <td>14</td>\n",
              "      <td>3</td>\n",
              "      <td>g(state=\"d</td>\n",
              "      <td>g(state=\"d</td>\n",
              "    </tr>\n",
              "  </tbody>\n",
              "</table>\n",
              "<p>63967 rows × 18 columns</p>\n",
              "</div>\n",
              "    <div class=\"colab-df-buttons\">\n",
              "\n",
              "  <div class=\"colab-df-container\">\n",
              "    <button class=\"colab-df-convert\" onclick=\"convertToInteractive('df-fdd9e6ea-e93a-436a-bf68-71239f2dfc08')\"\n",
              "            title=\"Convert this dataframe to an interactive table.\"\n",
              "            style=\"display:none;\">\n",
              "\n",
              "  <svg xmlns=\"http://www.w3.org/2000/svg\" height=\"24px\" viewBox=\"0 -960 960 960\">\n",
              "    <path d=\"M120-120v-720h720v720H120Zm60-500h600v-160H180v160Zm220 220h160v-160H400v160Zm0 220h160v-160H400v160ZM180-400h160v-160H180v160Zm440 0h160v-160H620v160ZM180-180h160v-160H180v160Zm440 0h160v-160H620v160Z\"/>\n",
              "  </svg>\n",
              "    </button>\n",
              "\n",
              "  <style>\n",
              "    .colab-df-container {\n",
              "      display:flex;\n",
              "      gap: 12px;\n",
              "    }\n",
              "\n",
              "    .colab-df-convert {\n",
              "      background-color: #E8F0FE;\n",
              "      border: none;\n",
              "      border-radius: 50%;\n",
              "      cursor: pointer;\n",
              "      display: none;\n",
              "      fill: #1967D2;\n",
              "      height: 32px;\n",
              "      padding: 0 0 0 0;\n",
              "      width: 32px;\n",
              "    }\n",
              "\n",
              "    .colab-df-convert:hover {\n",
              "      background-color: #E2EBFA;\n",
              "      box-shadow: 0px 1px 2px rgba(60, 64, 67, 0.3), 0px 1px 3px 1px rgba(60, 64, 67, 0.15);\n",
              "      fill: #174EA6;\n",
              "    }\n",
              "\n",
              "    .colab-df-buttons div {\n",
              "      margin-bottom: 4px;\n",
              "    }\n",
              "\n",
              "    [theme=dark] .colab-df-convert {\n",
              "      background-color: #3B4455;\n",
              "      fill: #D2E3FC;\n",
              "    }\n",
              "\n",
              "    [theme=dark] .colab-df-convert:hover {\n",
              "      background-color: #434B5C;\n",
              "      box-shadow: 0px 1px 3px 1px rgba(0, 0, 0, 0.15);\n",
              "      filter: drop-shadow(0px 1px 2px rgba(0, 0, 0, 0.3));\n",
              "      fill: #FFFFFF;\n",
              "    }\n",
              "  </style>\n",
              "\n",
              "    <script>\n",
              "      const buttonEl =\n",
              "        document.querySelector('#df-fdd9e6ea-e93a-436a-bf68-71239f2dfc08 button.colab-df-convert');\n",
              "      buttonEl.style.display =\n",
              "        google.colab.kernel.accessAllowed ? 'block' : 'none';\n",
              "\n",
              "      async function convertToInteractive(key) {\n",
              "        const element = document.querySelector('#df-fdd9e6ea-e93a-436a-bf68-71239f2dfc08');\n",
              "        const dataTable =\n",
              "          await google.colab.kernel.invokeFunction('convertToInteractive',\n",
              "                                                    [key], {});\n",
              "        if (!dataTable) return;\n",
              "\n",
              "        const docLinkHtml = 'Like what you see? Visit the ' +\n",
              "          '<a target=\"_blank\" href=https://colab.research.google.com/notebooks/data_table.ipynb>data table notebook</a>'\n",
              "          + ' to learn more about interactive tables.';\n",
              "        element.innerHTML = '';\n",
              "        dataTable['output_type'] = 'display_data';\n",
              "        await google.colab.output.renderOutput(dataTable, element);\n",
              "        const docLink = document.createElement('div');\n",
              "        docLink.innerHTML = docLinkHtml;\n",
              "        element.appendChild(docLink);\n",
              "      }\n",
              "    </script>\n",
              "  </div>\n",
              "\n",
              "\n",
              "<div id=\"df-41f5b326-7fe4-4ce6-aaf5-50bc893a9162\">\n",
              "  <button class=\"colab-df-quickchart\" onclick=\"quickchart('df-41f5b326-7fe4-4ce6-aaf5-50bc893a9162')\"\n",
              "            title=\"Suggest charts\"\n",
              "            style=\"display:none;\">\n",
              "\n",
              "<svg xmlns=\"http://www.w3.org/2000/svg\" height=\"24px\"viewBox=\"0 0 24 24\"\n",
              "     width=\"24px\">\n",
              "    <g>\n",
              "        <path d=\"M19 3H5c-1.1 0-2 .9-2 2v14c0 1.1.9 2 2 2h14c1.1 0 2-.9 2-2V5c0-1.1-.9-2-2-2zM9 17H7v-7h2v7zm4 0h-2V7h2v10zm4 0h-2v-4h2v4z\"/>\n",
              "    </g>\n",
              "</svg>\n",
              "  </button>\n",
              "\n",
              "<style>\n",
              "  .colab-df-quickchart {\n",
              "      --bg-color: #E8F0FE;\n",
              "      --fill-color: #1967D2;\n",
              "      --hover-bg-color: #E2EBFA;\n",
              "      --hover-fill-color: #174EA6;\n",
              "      --disabled-fill-color: #AAA;\n",
              "      --disabled-bg-color: #DDD;\n",
              "  }\n",
              "\n",
              "  [theme=dark] .colab-df-quickchart {\n",
              "      --bg-color: #3B4455;\n",
              "      --fill-color: #D2E3FC;\n",
              "      --hover-bg-color: #434B5C;\n",
              "      --hover-fill-color: #FFFFFF;\n",
              "      --disabled-bg-color: #3B4455;\n",
              "      --disabled-fill-color: #666;\n",
              "  }\n",
              "\n",
              "  .colab-df-quickchart {\n",
              "    background-color: var(--bg-color);\n",
              "    border: none;\n",
              "    border-radius: 50%;\n",
              "    cursor: pointer;\n",
              "    display: none;\n",
              "    fill: var(--fill-color);\n",
              "    height: 32px;\n",
              "    padding: 0;\n",
              "    width: 32px;\n",
              "  }\n",
              "\n",
              "  .colab-df-quickchart:hover {\n",
              "    background-color: var(--hover-bg-color);\n",
              "    box-shadow: 0 1px 2px rgba(60, 64, 67, 0.3), 0 1px 3px 1px rgba(60, 64, 67, 0.15);\n",
              "    fill: var(--button-hover-fill-color);\n",
              "  }\n",
              "\n",
              "  .colab-df-quickchart-complete:disabled,\n",
              "  .colab-df-quickchart-complete:disabled:hover {\n",
              "    background-color: var(--disabled-bg-color);\n",
              "    fill: var(--disabled-fill-color);\n",
              "    box-shadow: none;\n",
              "  }\n",
              "\n",
              "  .colab-df-spinner {\n",
              "    border: 2px solid var(--fill-color);\n",
              "    border-color: transparent;\n",
              "    border-bottom-color: var(--fill-color);\n",
              "    animation:\n",
              "      spin 1s steps(1) infinite;\n",
              "  }\n",
              "\n",
              "  @keyframes spin {\n",
              "    0% {\n",
              "      border-color: transparent;\n",
              "      border-bottom-color: var(--fill-color);\n",
              "      border-left-color: var(--fill-color);\n",
              "    }\n",
              "    20% {\n",
              "      border-color: transparent;\n",
              "      border-left-color: var(--fill-color);\n",
              "      border-top-color: var(--fill-color);\n",
              "    }\n",
              "    30% {\n",
              "      border-color: transparent;\n",
              "      border-left-color: var(--fill-color);\n",
              "      border-top-color: var(--fill-color);\n",
              "      border-right-color: var(--fill-color);\n",
              "    }\n",
              "    40% {\n",
              "      border-color: transparent;\n",
              "      border-right-color: var(--fill-color);\n",
              "      border-top-color: var(--fill-color);\n",
              "    }\n",
              "    60% {\n",
              "      border-color: transparent;\n",
              "      border-right-color: var(--fill-color);\n",
              "    }\n",
              "    80% {\n",
              "      border-color: transparent;\n",
              "      border-right-color: var(--fill-color);\n",
              "      border-bottom-color: var(--fill-color);\n",
              "    }\n",
              "    90% {\n",
              "      border-color: transparent;\n",
              "      border-bottom-color: var(--fill-color);\n",
              "    }\n",
              "  }\n",
              "</style>\n",
              "\n",
              "  <script>\n",
              "    async function quickchart(key) {\n",
              "      const quickchartButtonEl =\n",
              "        document.querySelector('#' + key + ' button');\n",
              "      quickchartButtonEl.disabled = true;  // To prevent multiple clicks.\n",
              "      quickchartButtonEl.classList.add('colab-df-spinner');\n",
              "      try {\n",
              "        const charts = await google.colab.kernel.invokeFunction(\n",
              "            'suggestCharts', [key], {});\n",
              "      } catch (error) {\n",
              "        console.error('Error during call to suggestCharts:', error);\n",
              "      }\n",
              "      quickchartButtonEl.classList.remove('colab-df-spinner');\n",
              "      quickchartButtonEl.classList.add('colab-df-quickchart-complete');\n",
              "    }\n",
              "    (() => {\n",
              "      let quickchartButtonEl =\n",
              "        document.querySelector('#df-41f5b326-7fe4-4ce6-aaf5-50bc893a9162 button');\n",
              "      quickchartButtonEl.style.display =\n",
              "        google.colab.kernel.accessAllowed ? 'block' : 'none';\n",
              "    })();\n",
              "  </script>\n",
              "</div>\n",
              "\n",
              "  <div id=\"id_69a70159-acc6-4c14-875d-1e9a92b3f78e\">\n",
              "    <style>\n",
              "      .colab-df-generate {\n",
              "        background-color: #E8F0FE;\n",
              "        border: none;\n",
              "        border-radius: 50%;\n",
              "        cursor: pointer;\n",
              "        display: none;\n",
              "        fill: #1967D2;\n",
              "        height: 32px;\n",
              "        padding: 0 0 0 0;\n",
              "        width: 32px;\n",
              "      }\n",
              "\n",
              "      .colab-df-generate:hover {\n",
              "        background-color: #E2EBFA;\n",
              "        box-shadow: 0px 1px 2px rgba(60, 64, 67, 0.3), 0px 1px 3px 1px rgba(60, 64, 67, 0.15);\n",
              "        fill: #174EA6;\n",
              "      }\n",
              "\n",
              "      [theme=dark] .colab-df-generate {\n",
              "        background-color: #3B4455;\n",
              "        fill: #D2E3FC;\n",
              "      }\n",
              "\n",
              "      [theme=dark] .colab-df-generate:hover {\n",
              "        background-color: #434B5C;\n",
              "        box-shadow: 0px 1px 3px 1px rgba(0, 0, 0, 0.15);\n",
              "        filter: drop-shadow(0px 1px 2px rgba(0, 0, 0, 0.3));\n",
              "        fill: #FFFFFF;\n",
              "      }\n",
              "    </style>\n",
              "    <button class=\"colab-df-generate\" onclick=\"generateWithVariable('t_df')\"\n",
              "            title=\"Generate code using this dataframe.\"\n",
              "            style=\"display:none;\">\n",
              "\n",
              "  <svg xmlns=\"http://www.w3.org/2000/svg\" height=\"24px\"viewBox=\"0 0 24 24\"\n",
              "       width=\"24px\">\n",
              "    <path d=\"M7,19H8.4L18.45,9,17,7.55,7,17.6ZM5,21V16.75L18.45,3.32a2,2,0,0,1,2.83,0l1.4,1.43a1.91,1.91,0,0,1,.58,1.4,1.91,1.91,0,0,1-.58,1.4L9.25,21ZM18.45,9,17,7.55Zm-12,3A5.31,5.31,0,0,0,4.9,8.1,5.31,5.31,0,0,0,1,6.5,5.31,5.31,0,0,0,4.9,4.9,5.31,5.31,0,0,0,6.5,1,5.31,5.31,0,0,0,8.1,4.9,5.31,5.31,0,0,0,12,6.5,5.46,5.46,0,0,0,6.5,12Z\"/>\n",
              "  </svg>\n",
              "    </button>\n",
              "    <script>\n",
              "      (() => {\n",
              "      const buttonEl =\n",
              "        document.querySelector('#id_69a70159-acc6-4c14-875d-1e9a92b3f78e button.colab-df-generate');\n",
              "      buttonEl.style.display =\n",
              "        google.colab.kernel.accessAllowed ? 'block' : 'none';\n",
              "\n",
              "      buttonEl.onclick = () => {\n",
              "        google.colab.notebook.generateWithVariable('t_df');\n",
              "      }\n",
              "      })();\n",
              "    </script>\n",
              "  </div>\n",
              "\n",
              "    </div>\n",
              "  </div>\n"
            ],
            "application/vnd.google.colaboratory.intrinsic+json": {
              "type": "dataframe",
              "variable_name": "t_df",
              "repr_error": "Out of range float values are not JSON compliant: nan"
            }
          },
          "metadata": {},
          "execution_count": 37
        }
      ]
    },
    {
      "cell_type": "code",
      "source": [
        "# for py3\n",
        "\n",
        "t_df2 = t_df[[\"lines of code\",\"explanation\",\"class\",\"pred_class\",\"extracted explanation avg\",\"extracted explanation max\"]]\n",
        "\n",
        "print ( t_df2.shape )\n",
        "\n",
        "# input()\n",
        "\n",
        "# for i in range(100):\n",
        "#   print (t_df2.iloc[i,0])\n",
        "#   print (t_df2.iloc[i,2])\n",
        "#   print(\"---\")"
      ],
      "metadata": {
        "id": "0_74wIjjzWPH",
        "colab": {
          "base_uri": "https://localhost:8080/"
        },
        "outputId": "90a91e32-d3de-457f-be2e-74775c1f7263"
      },
      "execution_count": null,
      "outputs": [
        {
          "output_type": "stream",
          "name": "stdout",
          "text": [
            "(63967, 6)\n"
          ]
        }
      ]
    },
    {
      "cell_type": "markdown",
      "source": [
        "Discovering New Patterns -- a better strategy\n",
        "\n",
        "for each of the following patterns:\n",
        "- compute the support of the pattern in the dataset\n",
        "- explain and check it makes sense\n"
      ],
      "metadata": {
        "id": "GCm_sD6Bwdpx"
      }
    },
    {
      "cell_type": "code",
      "source": [
        "def extract_explanation_line(line, idx, w=EXPL_WIN):\n",
        "  start_idx  = min(idx, len(line) - 1)\n",
        "  start_idx  = max(start_idx - 2, 0)\n",
        "  end_idx = min(start_idx + w, len(line))\n",
        "  return line[start_idx:end_idx]"
      ],
      "metadata": {
        "id": "jkhjCw6lLrKi"
      },
      "execution_count": null,
      "outputs": []
    },
    {
      "cell_type": "code",
      "source": [
        "# loc_py = re.compile(r\"\\.bit_length\\(\\)\")\n",
        "# loc_py = re.compile(r\"\\(len\\(bin\\(.*\\)\")\n",
        "# loc_py = re.compile(r\"^@.*\")\n",
        "# loc_py = re.compile(r\"def __nonzero__\")\n",
        "# loc_py = re.compile(r\"bytes\\(.*\\)\")\n",
        "# loc_py = re.compile(r\"str\\(.*\\)\")\n",
        "# loc_py = re.compile(r\"from collections\")"
      ],
      "metadata": {
        "id": "iKegfjK4eKSy"
      },
      "execution_count": null,
      "outputs": []
    },
    {
      "cell_type": "code",
      "source": [
        "loc_py = re.compile(r\"\\.bit_length\\(\\)\")\n",
        "# loc_py = re.compile(r\"^@.*\")\n",
        "# loc_py = re.compile(r\"from collections .*\")\n",
        "# loc_py = re.compile(r\"dict((.*, .*) for (.*, .*) in .*)\")\n",
        "# loc_py = r\"except .* as .*\"\n",
        "# loc_py = r\"except .*, .*\"\n",
        "# loc_py = r\"f'.* {.*}'\"\n",
        "\n",
        "def discover(r):\n",
        "  global count_py3, count_py2\n",
        "  match = re.search(loc_py, r[\"lines of code\"])\n",
        "  if match and r[\"class\"] == 3:\n",
        "\n",
        "    print (r[\"lines of code\"])\n",
        "    print ( match.group() )\n",
        "    print (r[\"explanation\"])\n",
        "    print (r[\"extracted explanation avg\"])\n",
        "    print (r[\"extracted explanation max\"])\n",
        "    if r[\"class\"] == 2:\n",
        "      count_py3 += 1\n",
        "    else:\n",
        "      count_py2 += 1\n",
        "\n",
        "    print (r[\"class\"])\n",
        "    print (r[\"pred_class\"])\n",
        "    print (\"======\")\n",
        "    # input()\n",
        "\n",
        "count_py3 = 0\n",
        "count_py2 = 0\n",
        "\n",
        "t_df2.apply(discover, axis=1)\n",
        "print (\"support = \", count_py3, count_py2)\n",
        "\n"
      ],
      "metadata": {
        "colab": {
          "base_uri": "https://localhost:8080/"
        },
        "id": "U2Ilatnd1WKn",
        "outputId": "a682a126-987b-425f-d722-8111c67ac4d1"
      },
      "execution_count": null,
      "outputs": [
        {
          "output_type": "stream",
          "name": "stdout",
          "text": [
            "return i.bit_length()\n",
            ".bit_length()\n",
            "nan\n",
            "return i.b\n",
            "return i.b\n",
            "3\n",
            "3\n",
            "======\n",
            "support =  0 1\n"
          ]
        }
      ]
    },
    {
      "cell_type": "code",
      "source": [
        "# test fixes\n",
        "\n",
        "# line = \"dict((key, val) for (key, val) in tuple_of_stuff)\"\n",
        "# line = \"except (RuntimeError, ImportError) as .*\"\n",
        "line = \"f'test: {a}'\"\n",
        "\n",
        "sample = [  bytearray(line, encoding=\"utf-8\") ]\n",
        "sample_padded = pad_sequences(sample, maxlen=MAX_LEN, padding='post', truncating='post')\n",
        "pred = m.predict(sample_padded)\n",
        "if pred < 0.5:\n",
        "  label=\"python2\"\n",
        "else:\n",
        "  label=\"python3\"\n",
        "print (pred, label)\n",
        "\n",
        "filters = intermediate_layer_model.predict(sample_padded)\n",
        "max_filter = np.average(filters,axis=2)\n",
        "idx = max_filter.argmax(axis=1)[0]\n",
        "# print(idx)\n",
        "print (extract_explanation_line(line, idx))\n",
        "\n"
      ],
      "metadata": {
        "colab": {
          "base_uri": "https://localhost:8080/"
        },
        "id": "TYZfOCj5wmnR",
        "outputId": "9607b376-35f1-4311-a5ba-ae73891fa800"
      },
      "execution_count": null,
      "outputs": [
        {
          "output_type": "stream",
          "name": "stdout",
          "text": [
            "1/1 [==============================] - 0s 37ms/step\n",
            "[[0.9245385]] python3\n",
            "1/1 [==============================] - 0s 39ms/step\n",
            "f'test: {a\n"
          ]
        }
      ]
    },
    {
      "cell_type": "code",
      "source": [
        "# test fixes\n",
        "\n",
        "# line = \"def foo() -> 'bar': pass\"\n",
        "# line = \"def foo(): pass\"\n",
        "\n",
        "# line = \"a = something.bit_length()\"\n",
        "# line = \"a = (len(bin(something)) - 2)\"\n",
        "\n",
        "# line = \"def __bool__(self):\"\n",
        "# line = \"def __nonzero__(self):\"\n",
        "\n",
        "# line = \"bytes(x)\"\n",
        "# line = \"str(x)\"\n",
        "\n",
        "# line = \"from collections import UserDict\"\n",
        "# line = \"from UserDict import UserDict\""
      ],
      "metadata": {
        "id": "gmn4iIVWZuuL"
      },
      "execution_count": null,
      "outputs": []
    }
  ]
}